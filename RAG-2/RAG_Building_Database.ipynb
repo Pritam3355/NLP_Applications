{
  "cells": [
    {
      "cell_type": "code",
      "execution_count": 7,
      "metadata": {
        "id": "AOeZvIM6p8uj"
      },
      "outputs": [],
      "source": []
    },
    {
      "cell_type": "code",
      "execution_count": 8,
      "metadata": {
        "id": "pD0CkfY2dD_H"
      },
      "outputs": [],
      "source": [
        "!rm -rf sample_data"
      ]
    },
    {
      "cell_type": "code",
      "execution_count": 9,
      "metadata": {
        "id": "s5SjwX2gqDWN"
      },
      "outputs": [],
      "source": [
        "! pip install -q \"unstructured[all-docs]\" pillow pydantic lxml pytesseract"
      ]
    },
    {
      "cell_type": "code",
      "execution_count": 10,
      "metadata": {
        "colab": {
          "base_uri": "https://localhost:8080/"
        },
        "id": "rjg078yeqDZd",
        "outputId": "6bb5a880-8efc-4093-d416-0d2b79163ddb"
      },
      "outputs": [
        {
          "output_type": "stream",
          "name": "stdout",
          "text": [
            "\r0% [Working]\r            \rHit:1 http://archive.ubuntu.com/ubuntu jammy InRelease\n",
            "\r0% [Connecting to security.ubuntu.com (185.125.190.82)] [Connected to cloud.r-p\r                                                                               \rHit:2 http://archive.ubuntu.com/ubuntu jammy-updates InRelease\n",
            "\r0% [Waiting for headers] [Connecting to security.ubuntu.com (185.125.190.82)] [\r                                                                               \rHit:3 https://cloud.r-project.org/bin/linux/ubuntu jammy-cran40/ InRelease\n",
            "\r0% [Waiting for headers] [Connecting to security.ubuntu.com (185.125.190.82)] [\r                                                                               \rHit:4 http://archive.ubuntu.com/ubuntu jammy-backports InRelease\n",
            "Hit:5 https://developer.download.nvidia.com/compute/cuda/repos/ubuntu2204/x86_64  InRelease\n",
            "Hit:6 https://r2u.stat.illinois.edu/ubuntu jammy InRelease\n",
            "Hit:7 http://security.ubuntu.com/ubuntu jammy-security InRelease\n",
            "Hit:8 https://ppa.launchpadcontent.net/deadsnakes/ppa/ubuntu jammy InRelease\n",
            "Hit:9 https://ppa.launchpadcontent.net/graphics-drivers/ppa/ubuntu jammy InRelease\n",
            "Hit:10 https://ppa.launchpadcontent.net/ubuntugis/ppa/ubuntu jammy InRelease\n",
            "Reading package lists... Done\n",
            "W: Skipping acquire of configured file 'main/source/Sources' as repository 'https://r2u.stat.illinois.edu/ubuntu jammy InRelease' does not seem to provide it (sources.list entry misspelt?)\n"
          ]
        }
      ],
      "source": [
        "!sudo apt-get update"
      ]
    },
    {
      "cell_type": "code",
      "execution_count": 11,
      "metadata": {
        "colab": {
          "base_uri": "https://localhost:8080/"
        },
        "id": "O5CZIuk2qDi3",
        "outputId": "b2830d7c-63ed-4023-a7f0-eab80610a85b"
      },
      "outputs": [
        {
          "output_type": "stream",
          "name": "stdout",
          "text": [
            "Reading package lists... Done\n",
            "Building dependency tree... Done\n",
            "Reading state information... Done\n",
            "libleptonica-dev is already the newest version (1.82.0-3build1).\n",
            "libtesseract-dev is already the newest version (4.1.1-2.1build1).\n",
            "tesseract-ocr is already the newest version (4.1.1-2.1build1).\n",
            "tesseract-ocr-eng is already the newest version (1:4.00~git30-7274cfa-1.1).\n",
            "tesseract-ocr-script-latn is already the newest version (1:4.00~git30-7274cfa-1.1).\n",
            "poppler-utils is already the newest version (22.02.0-2ubuntu0.5).\n",
            "python3-pil is already the newest version (9.0.1-1ubuntu0.3).\n",
            "0 upgraded, 0 newly installed, 0 to remove and 51 not upgraded.\n"
          ]
        }
      ],
      "source": [
        "!sudo apt-get install poppler-utils libleptonica-dev tesseract-ocr libtesseract-dev python3-pil tesseract-ocr-eng tesseract-ocr-script-latn\n"
      ]
    },
    {
      "cell_type": "code",
      "execution_count": 12,
      "metadata": {
        "id": "MvT-64Tzr-9v"
      },
      "outputs": [],
      "source": [
        "!pip install -q unstructured-pytesseract tesseract-ocr pytesseract"
      ]
    },
    {
      "cell_type": "code",
      "execution_count": 13,
      "metadata": {
        "colab": {
          "base_uri": "https://localhost:8080/"
        },
        "id": "KEKUol8esEx7",
        "outputId": "5d3e2979-3f60-4739-f15c-4d7324ff41f7"
      },
      "outputs": [
        {
          "output_type": "stream",
          "name": "stdout",
          "text": [
            "\r0% [Working]\r            \rHit:1 http://archive.ubuntu.com/ubuntu jammy InRelease\n",
            "\r0% [Waiting for headers] [Connecting to security.ubuntu.com (185.125.190.82)] [\r                                                                               \rHit:2 http://archive.ubuntu.com/ubuntu jammy-updates InRelease\n",
            "\r0% [Waiting for headers] [Connecting to security.ubuntu.com (185.125.190.82)] [\r                                                                               \rHit:3 https://cloud.r-project.org/bin/linux/ubuntu jammy-cran40/ InRelease\n",
            "\r0% [Waiting for headers] [Waiting for headers] [Connected to r2u.stat.illinois.\r                                                                               \rHit:4 http://archive.ubuntu.com/ubuntu jammy-backports InRelease\n",
            "Hit:5 https://developer.download.nvidia.com/compute/cuda/repos/ubuntu2204/x86_64  InRelease\n",
            "Hit:6 http://security.ubuntu.com/ubuntu jammy-security InRelease\n",
            "Hit:7 https://r2u.stat.illinois.edu/ubuntu jammy InRelease\n",
            "Hit:8 https://ppa.launchpadcontent.net/deadsnakes/ppa/ubuntu jammy InRelease\n",
            "Hit:9 https://ppa.launchpadcontent.net/graphics-drivers/ppa/ubuntu jammy InRelease\n",
            "Hit:10 https://ppa.launchpadcontent.net/ubuntugis/ppa/ubuntu jammy InRelease\n",
            "Reading package lists... Done\n",
            "W: Skipping acquire of configured file 'main/source/Sources' as repository 'https://r2u.stat.illinois.edu/ubuntu jammy InRelease' does not seem to provide it (sources.list entry misspelt?)\n"
          ]
        }
      ],
      "source": [
        "!sudo apt-get update"
      ]
    },
    {
      "cell_type": "markdown",
      "metadata": {
        "id": "dowGYVcruTlX"
      },
      "source": [
        "### https://docs.unstructured.io/open-source/core-functionality/cleaning"
      ]
    },
    {
      "cell_type": "code",
      "execution_count": 14,
      "metadata": {
        "id": "VKC9IjfHsLTt"
      },
      "outputs": [],
      "source": [
        "import os\n",
        "from unstructured.partition.pdf import partition_pdf"
      ]
    },
    {
      "cell_type": "code",
      "execution_count": 15,
      "metadata": {
        "id": "5ltGTSAmsV3r"
      },
      "outputs": [],
      "source": [
        "\n",
        "file_path=\"/content/multi_modal_2.pdf\"\n",
        "image_path = file_path.split(\".\")[0]+\"_images\"\n",
        "# os.makedirs(image_path, exist_ok=True)"
      ]
    },
    {
      "cell_type": "code",
      "execution_count": 16,
      "metadata": {
        "colab": {
          "base_uri": "https://localhost:8080/",
          "height": 49,
          "referenced_widgets": [
            "8bbaeec9ff0a4fc989452f806b0343b3",
            "60ee4cc16e554cf7b1d710c7c68afe98",
            "6fa2044a7cb24abd9696188b5061e445",
            "cd24a90c0e9545ae9d2a0c04eadb2e46",
            "f876f6bc94b44244b3c0b6102702cf2e",
            "ee44c4d8642845c5a4a2056cde64f1f1",
            "d0bd8704ca5b43c3ac71402ab8b1863d",
            "f8ad1e1b560e4614bc3f50ba9f98270d",
            "8982810205ef4764a496a1d6d108347b",
            "ab40f44ab15245fca02cdd1613a76f25",
            "4e2e428476204cdbbe8dac7f25c3faa4"
          ]
        },
        "id": "QZ-oegJ6sLeq",
        "outputId": "ec8535d8-254b-47fe-9a61-f2100a8f3c7d"
      },
      "outputs": [
        {
          "output_type": "display_data",
          "data": {
            "text/plain": [
              "yolox_l0.05.onnx:   0%|          | 0.00/217M [00:00<?, ?B/s]"
            ],
            "application/vnd.jupyter.widget-view+json": {
              "version_major": 2,
              "version_minor": 0,
              "model_id": "8bbaeec9ff0a4fc989452f806b0343b3"
            }
          },
          "metadata": {}
        }
      ],
      "source": [
        "raw_pdf_elements=partition_pdf(\n",
        "    filename=file_path,\n",
        "    strategy=\"hi_res\", # \"ocr_only\"\n",
        "    extract_images_in_pdf=True,\n",
        "    extract_image_block_types=[\"Image\", \"Table\"],\n",
        "    extract_image_block_to_payload=False, # integrating these images directly into web applications or APIs\n",
        "    extract_image_block_output_dir=image_path\n",
        "  )\n"
      ]
    },
    {
      "cell_type": "markdown",
      "metadata": {
        "id": "duboKQMPcVIi"
      },
      "source": [
        "\n",
        "\n",
        "    {'type': 'UncategorizedText',\n",
        "    'element_id': '99af06b76b3735bf97d0acd0105110da',\n",
        "    'text': '4',\n",
        "    'metadata': {'coordinates': {'points': ((45.388888888888886,\n",
        "        583.4999999999998),\n",
        "        (45.388888888888886, 611.2777777777776),\n",
        "        (100.94444444444446, 611.2777777777776),\n",
        "        (100.94444444444446, 583.4999999999998)),\n",
        "      'system': 'PixelSpace',\n",
        "      'layout_width': 1700,\n",
        "      'layout_height': 2200},\n",
        "      'last_modified': '2025-01-05T11:21:32',\n",
        "      'filetype': 'application/pdf',\n",
        "      'languages': ['eng'],\n",
        "      'page_number': 1,\n",
        "      'file_directory': '/content',\n",
        "      'filename': 'multi_modal_2.pdf'}}"
      ]
    },
    {
      "cell_type": "code",
      "execution_count": 17,
      "metadata": {
        "id": "dAILenWpsLjq",
        "colab": {
          "base_uri": "https://localhost:8080/"
        },
        "outputId": "8e1ed5d3-2302-4f9d-d478-2f2118da53b5"
      },
      "outputs": [
        {
          "output_type": "execute_result",
          "data": {
            "text/plain": [
              "{1: {'FigureCaption', 'Header', 'NarrativeText', 'Title', 'UncategorizedText'},\n",
              " 2: {'FigureCaption', 'Footer', 'Image', 'NarrativeText', 'Table', 'Title'},\n",
              " 3: {'Footer', 'Formula', 'ListItem', 'NarrativeText', 'Title'},\n",
              " 4: {'FigureCaption', 'Image', 'NarrativeText', 'Title', 'UncategorizedText'},\n",
              " 5: {'Footer', 'Image', 'NarrativeText', 'Title'},\n",
              " 6: {'Formula', 'ListItem', 'NarrativeText', 'UncategorizedText'},\n",
              " 7: {'Footer', 'ListItem', 'NarrativeText', 'Title'},\n",
              " 8: {'FigureCaption',\n",
              "  'Footer',\n",
              "  'ListItem',\n",
              "  'NarrativeText',\n",
              "  'Table',\n",
              "  'Title',\n",
              "  'UncategorizedText'},\n",
              " 9: {'FigureCaption',\n",
              "  'Footer',\n",
              "  'Image',\n",
              "  'ListItem',\n",
              "  'NarrativeText',\n",
              "  'Table',\n",
              "  'Title',\n",
              "  'UncategorizedText'},\n",
              " 10: {'FigureCaption', 'Footer', 'Image', 'NarrativeText', 'Table', 'Title'},\n",
              " 11: {'Footer', 'ListItem', 'NarrativeText', 'Title'},\n",
              " 12: {'Footer', 'ListItem'},\n",
              " 13: {'Footer', 'ListItem', 'UncategorizedText'},\n",
              " 14: {'ListItem', 'UncategorizedText'},\n",
              " 15: {'FigureCaption',\n",
              "  'Footer',\n",
              "  'Image',\n",
              "  'ListItem',\n",
              "  'NarrativeText',\n",
              "  'Table',\n",
              "  'Title'},\n",
              " 16: {'FigureCaption',\n",
              "  'Footer',\n",
              "  'Image',\n",
              "  'ListItem',\n",
              "  'NarrativeText',\n",
              "  'Table',\n",
              "  'Title'},\n",
              " 17: {'Footer', 'Formula', 'ListItem', 'NarrativeText', 'Title'},\n",
              " 18: {'Footer', 'NarrativeText', 'Title'},\n",
              " 19: {'Header', 'NarrativeText', 'Table', 'Title'}}"
            ]
          },
          "metadata": {},
          "execution_count": 17
        }
      ],
      "source": [
        "all_elements = {}\n",
        "\n",
        "for element in raw_pdf_elements:\n",
        "  element = element.to_dict()\n",
        "  if element[\"metadata\"][\"page_number\"] not in all_elements:\n",
        "    all_elements[element[\"metadata\"][\"page_number\"]] = set()\n",
        "  else:\n",
        "    all_elements[element[\"metadata\"][\"page_number\"]].add(element[\"type\"])\n",
        "\n",
        "\n",
        "all_elements\n"
      ]
    },
    {
      "cell_type": "code",
      "execution_count": 18,
      "metadata": {
        "id": "HLNzO6d3YSWU"
      },
      "outputs": [],
      "source": [
        "import os\n",
        "import cv2\n",
        "import pytesseract\n",
        "\n",
        "class ImageTableProcessing:\n",
        "    def __init__(self, page_number,image_path):\n",
        "        self.page_number = page_number\n",
        "        self.image_path = image_path\n",
        "        self.image_map = {}\n",
        "        self.table_map = {}\n",
        "\n",
        "\n",
        "    def set_image_map(self):\n",
        "      image_map = {}\n",
        "      for filename in os.listdir(self.image_path):\n",
        "            if filename.startswith(\"figure-\"):\n",
        "              parts = filename.replace(\".jpg\", \"\").split(\"-\")\n",
        "              curr_page_number, curr_image_number = parts[1], parts[2]\n",
        "              if curr_page_number == self.page_number:\n",
        "                    if curr_page_number not in image_map:\n",
        "                        image_map[curr_page_number] = {}\n",
        "                    # Create a dictionary for curr_image_number if it doesn't exist\n",
        "                    if curr_image_number not in image_map[curr_page_number]:\n",
        "                        image_map[curr_page_number][curr_image_number] = {}\n",
        "                    image_map[curr_page_number][curr_image_number][\"image_path\"] = os.path.join(self.image_path, filename)\n",
        "                    image_map[curr_page_number][curr_image_number][\"image_heading\"] = \"\"\n",
        "      self.image_map = image_map\n",
        "\n",
        "    def set_table_map(self):\n",
        "        table_map = {}\n",
        "        for filename in os.listdir(self.image_path):\n",
        "            if filename.startswith(\"table-\"):\n",
        "                parts = filename.replace(\".jpg\", \"\").split(\"-\")\n",
        "                curr_page_number, curr_table_number = parts[1], parts[2]\n",
        "\n",
        "                if curr_page_number == self.page_number:\n",
        "                    if curr_page_number not in table_map:\n",
        "                        table_map[curr_page_number] = {}\n",
        "                    if curr_table_number not in table_map[curr_page_number]:\n",
        "                        table_map[curr_page_number][curr_table_number] = {}\n",
        "\n",
        "                    table_image_path = os.path.join(self.image_path, filename)\n",
        "                    table_image = cv2.imread(table_image_path)\n",
        "                    table_text = pytesseract.image_to_string(table_image)\n",
        "\n",
        "                    table_map[curr_page_number][curr_table_number][\"table_path\"] = table_image_path\n",
        "                    table_map[curr_page_number][curr_table_number][\"table_heading\"] = \"\"\n",
        "                    table_map[curr_page_number][curr_table_number][\"table_data\"] = table_text\n",
        "\n",
        "\n",
        "        self.table_map = table_map\n",
        "\n",
        "    def get_image_map(self):\n",
        "        return self.image_map\n",
        "\n",
        "    def get_table_map(self):\n",
        "        return self.table_map\n",
        "\n"
      ]
    },
    {
      "cell_type": "code",
      "execution_count": 19,
      "metadata": {
        "id": "C_VNoXn1_Muq"
      },
      "outputs": [],
      "source": [
        "import unicodedata\n",
        "\n",
        "class PDFDataProcessor:\n",
        "    def __init__(self, raw_pdf_elements,image_path):\n",
        "        self.raw_pdf_elements = raw_pdf_elements\n",
        "        self.image_path = image_path\n",
        "        self.data = {}\n",
        "\n",
        "    def _remove_unicode(self, text):\n",
        "        return unicodedata.normalize(\"NFKD\", text).encode(\"ascii\", \"ignore\").decode(\"utf-8\")\n",
        "\n",
        "    def process_elements(self):\n",
        "        for element in self.raw_pdf_elements:\n",
        "            element = element.to_dict()\n",
        "            if \"document_metadata\" not in self.data:\n",
        "                self.data[\"document_metadata\"] = {\n",
        "                    \"filetype\": element[\"metadata\"][\"filetype\"],\n",
        "                    \"document_length\": \"\",\n",
        "                    \"file_directory\": element[\"metadata\"][\"file_directory\"],\n",
        "                    \"filename\": element[\"metadata\"][\"filename\"],\n",
        "                    \"page_layout\": {\n",
        "                            \"width\": element[\"metadata\"][\"coordinates\"][\"layout_width\"],\n",
        "                            \"height\": element[\"metadata\"][\"coordinates\"][\"layout_height\"],\n",
        "                            \"system\": element[\"metadata\"][\"coordinates\"][\"system\"]\n",
        "                        },\n",
        "                    \"last_timestamp\": [element[\"metadata\"][\"last_modified\"]],\n",
        "                    \"language\": element[\"metadata\"][\"languages\"]}\n",
        "            page_number = str(element[\"metadata\"][\"page_number\"])\n",
        "\n",
        "            if page_number not in self.data:\n",
        "                image_table_obj = ImageTableProcessing(page_number,self.image_path )\n",
        "                image_table_obj.set_image_map()\n",
        "                image_table_obj.set_table_map()\n",
        "\n",
        "                self.data[page_number] = {\n",
        "                    \"header\": [],\n",
        "                    \"title\": [],\n",
        "                    \"narrative_text\": [],\n",
        "                    \"list_item\": [],\n",
        "                    \"image_data\": {\"images\": image_table_obj.get_image_map(), \"figure_captions\": []},\n",
        "                    \"table\": image_table_obj.get_table_map(),\n",
        "                    \"formula\": [],\n",
        "                    \"footer\": [],\n",
        "                    \"unknown_element\": [],\n",
        "                    \"page_metadata\": {\n",
        "                        \"page_number\": page_number\n",
        "                    }\n",
        "                }\n",
        "\n",
        "            self._add_element_to_page(page_number, element)\n",
        "\n",
        "    def _add_element_to_page(self, page_number, element):\n",
        "        element_type = element[\"type\"]\n",
        "        data_page = self.data[page_number]\n",
        "        element_text = self._remove_unicode(element[\"text\"])\n",
        "\n",
        "        if element_type in data_page:\n",
        "            data_page[element_type.lower()].append(element_text)\n",
        "        elif element_type == \"FigureCaption\":\n",
        "            data_page[\"image_data\"][\"figure_captions\"].append(element_text)\n",
        "        else:\n",
        "            data_page[\"unknown_element\"].append(element_text)\n",
        "\n",
        "    def process_captions_and_texts(self):\n",
        "        # Skipping 'document_metadata' key as it won't contain image_data\n",
        "        for page_number, value in self.data.items():\n",
        "            if page_number != \"document_metadata\":\n",
        "                self._process_figure_captions(page_number, value)\n",
        "                self._process_narrative_text(page_number, value)\n",
        "                self._process_unknown_element(page_number, value)\n",
        "\n",
        "    def _process_figure_captions(self, page_number, value):\n",
        "        figure_captions = [self._remove_unicode(fc) for fc in value[\"image_data\"][\"figure_captions\"]]\n",
        "        for figure_caption in figure_captions:\n",
        "            if figure_caption.lower().startswith(\"table\"):\n",
        "                self._assign_table_heading(page_number, figure_caption, value)\n",
        "            elif figure_caption.lower().startswith(\"figure\"):\n",
        "                self._assign_image_heading(page_number, figure_caption, value)\n",
        "\n",
        "    def _process_narrative_text(self, page_number, value):\n",
        "        narrative_texts = [self._remove_unicode(nt) for nt in value[\"narrative_text\"]]\n",
        "        for narrative_text in narrative_texts:\n",
        "            if narrative_text.lower().startswith(\"table\"):\n",
        "                self._assign_table_heading(page_number, narrative_text, value)\n",
        "            elif narrative_text.lower().startswith(\"figure\"):\n",
        "                self._assign_image_heading(page_number, narrative_text, value)\n",
        "\n",
        "    def _process_unknown_element(self, page_number, value):\n",
        "        unknown_elements = [self._remove_unicode(ue) for ue in value[\"unknown_element\"]]\n",
        "        for unknown_element in unknown_elements:\n",
        "            if unknown_element.lower().startswith(\"table\"):\n",
        "                self._assign_table_heading(page_number, unknown_element, value)\n",
        "            elif unknown_element.lower().startswith(\"figure\"):\n",
        "                self._assign_image_heading(page_number, unknown_element, value)\n",
        "\n",
        "    def _assign_table_heading(self, page_number, text, value):\n",
        "        text = self._remove_unicode(text)\n",
        "        table_number = text[len(\"table\") + 1]\n",
        "        if \":\" in text:\n",
        "            table_heading = text.split(\":\")[1].strip()\n",
        "            if table_number in value[\"table\"].get(page_number, {}):\n",
        "                value[\"table\"][page_number][table_number][\"table_heading\"] = table_heading\n",
        "            # Check if the text exists in the list before removing it\n",
        "            if text in value[\"image_data\"][\"figure_captions\"]:\n",
        "                value[\"image_data\"][\"figure_captions\"].remove(text)\n",
        "            if text in value[\"narrative_text\"]:\n",
        "                value[\"narrative_text\"].remove(text)\n",
        "            if text in value[\"unknown_element\"]:\n",
        "                value[\"unknown_element\"].remove(text)\n",
        "\n",
        "    def _assign_image_heading(self, page_number, text, value):\n",
        "        text = self._remove_unicode(text)\n",
        "        image_number = text[len(\"figure\") + 1]\n",
        "        if \":\" in text:\n",
        "            image_heading = text.split(\":\")[1].strip()\n",
        "            images_data = value[\"image_data\"][\"images\"].get(page_number, {})\n",
        "            if images_data and image_number in images_data:\n",
        "                images_data[image_number][\"image_heading\"] = image_heading\n",
        "            # Check if the text exists in the list before removing it\n",
        "            if text in value[\"image_data\"][\"figure_captions\"]:\n",
        "                value[\"image_data\"][\"figure_captions\"].remove(text)\n",
        "            if text in value[\"narrative_text\"]:\n",
        "                value[\"narrative_text\"].remove(text)\n",
        "            if text in value[\"unknown_element\"]:\n",
        "                value[\"unknown_element\"].remove(text)\n",
        "\n",
        "    def get_data(self):\n",
        "        self.data[\"document_metadata\"][\"document_length\"] = str(len(self.data))\n",
        "        return self.data"
      ]
    },
    {
      "cell_type": "code",
      "execution_count": 20,
      "metadata": {
        "id": "HT_iPOLPYOYr"
      },
      "outputs": [],
      "source": [
        "\n",
        "processor = PDFDataProcessor(raw_pdf_elements,image_path)\n",
        "processor.process_elements()\n",
        "processor.process_captions_and_texts()\n",
        "final_data = processor.get_data()"
      ]
    },
    {
      "cell_type": "code",
      "execution_count": 21,
      "metadata": {
        "id": "N-BvOilvjk1j"
      },
      "outputs": [],
      "source": [
        "!rm -rf *_structured_data.json"
      ]
    },
    {
      "cell_type": "code",
      "execution_count": 22,
      "metadata": {
        "id": "JkykSsmn_nGG"
      },
      "outputs": [],
      "source": [
        "\n",
        "import json\n",
        "\n",
        "with open(f\"{file_path.split('.')[0]}_structured_data.json\", \"w\") as f:\n",
        "    json.dump(final_data, f, indent=4)\n"
      ]
    },
    {
      "cell_type": "code",
      "source": [
        "import json\n",
        "\n",
        "with open(f\"{file_path.split('.')[0]}_structured_data.json\", \"r\") as f:\n",
        "    data = json.load(f)"
      ],
      "metadata": {
        "id": "v8W6Mvh1kLnt"
      },
      "execution_count": 23,
      "outputs": []
    },
    {
      "cell_type": "code",
      "execution_count": 24,
      "metadata": {
        "id": "Fjz-j4Ek7yp0"
      },
      "outputs": [],
      "source": [
        "import re\n",
        "\n",
        "class TextChunker:\n",
        "    def __init__(self,data):\n",
        "      self.data = data\n",
        "      # Subheading pattern - Research paper\n",
        "      self.subheading_patterns = [\n",
        "            r'^\\d+(\\.\\d+)?\\s[A-Z][A-Z\\s\\-]+$',   # Matches \"2 BACKGROUND AND MOTIVATION\" or \"2.1 LLM AND ATTENTION OPERATION\"\n",
        "            r'^[A-Z][A-Z\\s\\-]{4,}$'               # Uppercase headings - \"DYNAMIC AND SPARSE ATTENTION\"\n",
        "        ]\n",
        "\n",
        "    def extract_topics(self,texts):\n",
        "      sub_heading_topics = {}\n",
        "      current_section = \"\"\n",
        "      combined_pattern = re.compile('|'.join(self.subheading_patterns), re.IGNORECASE)\n",
        "      for line in texts:\n",
        "        # Check if line matches a subheading\n",
        "        match = combined_pattern.match(line)\n",
        "        if match:\n",
        "          current_section = match.group(0)\n",
        "          sub_heading_topics[current_section] = []\n",
        "        else:\n",
        "          if current_section:\n",
        "            sub_heading_topics[current_section].append(line)\n",
        "      return sub_heading_topics\n",
        "\n",
        "    def chunk_texts(self,element_names):\n",
        "      for element_name in element_names:\n",
        "        for page_number in self.data.keys():\n",
        "          if page_number == \"document_metadata\":\n",
        "            continue\n",
        "          if len(self.data[page_number][element_name]):\n",
        "            self.data[page_number][element_name] = self.extract_topics(self.data[page_number][element_name])\n",
        "            print(f\"page : {page_number} segmenting for {element_name} part.....\")\n",
        "\n",
        "      return self.data"
      ]
    },
    {
      "cell_type": "code",
      "source": [
        "chunker = TextChunker(data)\n",
        "element_names = [\"narrative_text\",\"unknown_element\"]\n",
        "chunked_data = chunker.chunk_texts(element_names)\n"
      ],
      "metadata": {
        "id": "upUamPQLMsQp",
        "colab": {
          "base_uri": "https://localhost:8080/"
        },
        "outputId": "1e547fe8-c8c6-4383-a312-a9909b7d5afc"
      },
      "execution_count": 25,
      "outputs": [
        {
          "output_type": "stream",
          "name": "stdout",
          "text": [
            "page : 1 segmenting for unknown_element part.....\n",
            "page : 2 segmenting for unknown_element part.....\n",
            "page : 3 segmenting for unknown_element part.....\n",
            "page : 4 segmenting for unknown_element part.....\n",
            "page : 5 segmenting for unknown_element part.....\n",
            "page : 6 segmenting for unknown_element part.....\n",
            "page : 7 segmenting for unknown_element part.....\n",
            "page : 8 segmenting for unknown_element part.....\n",
            "page : 9 segmenting for unknown_element part.....\n",
            "page : 10 segmenting for unknown_element part.....\n",
            "page : 11 segmenting for unknown_element part.....\n",
            "page : 12 segmenting for unknown_element part.....\n",
            "page : 13 segmenting for unknown_element part.....\n",
            "page : 14 segmenting for unknown_element part.....\n",
            "page : 15 segmenting for unknown_element part.....\n",
            "page : 16 segmenting for unknown_element part.....\n",
            "page : 17 segmenting for unknown_element part.....\n",
            "page : 18 segmenting for unknown_element part.....\n",
            "page : 19 segmenting for unknown_element part.....\n"
          ]
        }
      ]
    },
    {
      "cell_type": "code",
      "source": [
        "!rm -rf *_chunked_data.json"
      ],
      "metadata": {
        "id": "XuJaBaa8PQFa"
      },
      "execution_count": 26,
      "outputs": []
    },
    {
      "cell_type": "code",
      "execution_count": 27,
      "metadata": {
        "id": "xoEdAghohMvu"
      },
      "outputs": [],
      "source": [
        "import json\n",
        "\n",
        "with open(f\"{file_path.split('.')[0]}_chunked_data.json\", \"w\") as f:\n",
        "    json.dump(chunked_data, f, indent=4)\n"
      ]
    },
    {
      "cell_type": "code",
      "source": [
        "import json\n",
        "\n",
        "with open(f\"{file_path.split('.')[0]}_chunked_data.json\", \"r\") as f:\n",
        "    data = json.load(f)"
      ],
      "metadata": {
        "id": "D8qFnhjMkUla"
      },
      "execution_count": 137,
      "outputs": []
    },
    {
      "cell_type": "code",
      "source": [],
      "metadata": {
        "id": "4ziYuzqZWtu2"
      },
      "execution_count": null,
      "outputs": []
    },
    {
      "cell_type": "code",
      "source": [
        "!pip install -q langchain-together together groq"
      ],
      "metadata": {
        "colab": {
          "base_uri": "https://localhost:8080/"
        },
        "id": "WHWqMhKfxEj0",
        "outputId": "ed3833bf-ab00-4cd2-b946-d6b6e3ebae58"
      },
      "execution_count": 74,
      "outputs": [
        {
          "output_type": "stream",
          "name": "stdout",
          "text": [
            "\u001b[?25l   \u001b[90m━━━━━━━━━━━━━━━━━━━━━━━━━━━━━━━━━━━━━━━━\u001b[0m \u001b[32m0.0/109.6 kB\u001b[0m \u001b[31m?\u001b[0m eta \u001b[36m-:--:--\u001b[0m\r\u001b[2K   \u001b[91m━━━━━━━━━━━━━━━━━━━━━━━━━━━━━━━━━━━━━\u001b[0m\u001b[90m╺\u001b[0m\u001b[90m━━\u001b[0m \u001b[32m102.4/109.6 kB\u001b[0m \u001b[31m3.9 MB/s\u001b[0m eta \u001b[36m0:00:01\u001b[0m\r\u001b[2K   \u001b[90m━━━━━━━━━━━━━━━━━━━━━━━━━━━━━━━━━━━━━━━━\u001b[0m \u001b[32m109.6/109.6 kB\u001b[0m \u001b[31m2.7 MB/s\u001b[0m eta \u001b[36m0:00:00\u001b[0m\n",
            "\u001b[?25h"
          ]
        }
      ]
    },
    {
      "cell_type": "code",
      "source": [
        "import json\n",
        "import re\n",
        "from together import Together\n",
        "from groq import Groq\n",
        "from google.colab import userdata\n",
        "\n",
        "class LLMService:\n",
        "    def __init__(self, data, batch_size, model_use='Groq'):\n",
        "        self.data = data\n",
        "        self.batch_size = batch_size\n",
        "        self.model_use = model_use\n",
        "        self.api_keys = {\n",
        "            \"Together\": userdata.get(\"TOGETHER_API_KEY\"),\n",
        "            \"Groq\": userdata.get(\"GROQ_API_KEY\"),\n",
        "        }\n",
        "\n",
        "    def design_prompt(self, page_data):\n",
        "        system_prompt = \"\"\"Act as a subject matter expert. If you're not sure what should be the response, provide an empty string as response.\n",
        "        Return a JSON object (strictly JSON, no extra text) with:\n",
        "        \"topics_detected\": Detect topics from the input data.\n",
        "        \"page_summary\": Generate a summary of around 50 words, technically sound and simple to understand.\"\"\"\n",
        "\n",
        "        user_prompt = f\"Here is your data: {page_data}\"\n",
        "\n",
        "        return [\n",
        "            {\"role\": \"system\", \"content\": system_prompt},\n",
        "            {\"role\": \"user\", \"content\": user_prompt}\n",
        "        ]\n",
        "\n",
        "\n",
        "    def generate_page_metadata(self, page_data):\n",
        "      final_prompt = self.design_prompt(page_data)\n",
        "\n",
        "      if self.model_use == \"Groq\":\n",
        "          client = Groq(api_key=self.api_keys[\"Groq\"])\n",
        "          response = client.chat.completions.create(\n",
        "              model=\"llama3-8b-8192\",\n",
        "              messages=final_prompt,\n",
        "              max_tokens=1024,\n",
        "              temperature=0.5,\n",
        "              top_p=0.95,\n",
        "              stop=[\"<|eot_id|>\", \"<|eom_id|>\"],\n",
        "              stream=False\n",
        "          )\n",
        "      elif self.model_use == \"Together\":\n",
        "          client = Together(api_key=self.api_keys[\"Together\"])\n",
        "          response = client.chat.completions.create(\n",
        "              model=\"mistralai/Mixtral-8x7B-Instruct-v0.1\",\n",
        "              messages=final_prompt,\n",
        "              max_tokens=1024,\n",
        "              temperature=0.5,\n",
        "              top_p=0.95,\n",
        "              stop=[\"[/INST]\", \"</s>\"],\n",
        "              stream=False\n",
        "          )\n",
        "\n",
        "      # Extract the response content\n",
        "      if not response or not hasattr(response, \"choices\"):\n",
        "          raise ValueError(f\"Unexpected response format: {response}\")\n",
        "\n",
        "      response_text = response.choices[0].message.content\n",
        "      # Remove Preamble\n",
        "      try:\n",
        "          json_match = re.search(r\"\\{.*\\}\", response_text, re.DOTALL)\n",
        "          if json_match:\n",
        "              response_text = json_match.group(0)\n",
        "          page_data = json.loads(response_text)\n",
        "      except json.JSONDecodeError as e:\n",
        "          print(f\"JSON parsing error: {e}, response: {response_text}\")\n",
        "          page_data = {\"topics_detected\": [], \"page_summary\": \"\"}\n",
        "\n",
        "      # Validate keys\n",
        "      if \"topics_detected\" not in page_data or \"page_summary\" not in page_data:\n",
        "          page_data[\"topics_detected\"] = []\n",
        "          page_data[\"page_summary\"] = \"\"\n",
        "\n",
        "      return page_data\n",
        "\n",
        "\n",
        "    def set_metadata(self):\n",
        "        for page_number, page_data in self.data.items():\n",
        "            if page_number == \"document_metadata\":\n",
        "                continue\n",
        "            else:\n",
        "                page_meta = self.generate_page_metadata(page_data)\n",
        "                self.data[page_number][\"page_metadata\"] = {\n",
        "                    \"topics_detected\": page_meta[\"topics_detected\"],\n",
        "                    \"page_summary\": page_meta[\"page_summary\"],\n",
        "                    \"page_number\": page_number\n",
        "                }\n",
        "                print(f\"page : {page_number} metadata generated.....\")\n",
        "\n",
        "    def get_metadata(self):\n",
        "        return self.data\n"
      ],
      "metadata": {
        "id": "0qWOdcCNpVGy"
      },
      "execution_count": 135,
      "outputs": []
    },
    {
      "cell_type": "code",
      "execution_count": 138,
      "metadata": {
        "id": "4I6hxx-wblaF",
        "colab": {
          "base_uri": "https://localhost:8080/"
        },
        "outputId": "91884b2f-9926-4b72-be86-7fc2b3b6444e"
      },
      "outputs": [
        {
          "output_type": "stream",
          "name": "stdout",
          "text": [
            "page : 1 metadata generated.....\n",
            "page : 2 metadata generated.....\n",
            "page : 3 metadata generated.....\n",
            "page : 4 metadata generated.....\n",
            "page : 5 metadata generated.....\n",
            "page : 6 metadata generated.....\n",
            "page : 7 metadata generated.....\n",
            "page : 8 metadata generated.....\n",
            "page : 9 metadata generated.....\n",
            "page : 10 metadata generated.....\n",
            "page : 11 metadata generated.....\n",
            "page : 12 metadata generated.....\n",
            "page : 13 metadata generated.....\n",
            "page : 14 metadata generated.....\n",
            "page : 15 metadata generated.....\n",
            "page : 16 metadata generated.....\n",
            "page : 17 metadata generated.....\n",
            "page : 18 metadata generated.....\n",
            "page : 19 metadata generated.....\n"
          ]
        }
      ],
      "source": [
        "llm_service = LLMService(data,batch_size=4,model_use=\"Groq\")\n",
        "llm_service.set_metadata()\n",
        "metadata_data = llm_service.get_metadata()\n"
      ]
    },
    {
      "cell_type": "code",
      "source": [
        "!rm -rf *_chunked_metadata_data.json"
      ],
      "metadata": {
        "id": "QNdfaf9njnXB"
      },
      "execution_count": 136,
      "outputs": []
    },
    {
      "cell_type": "code",
      "source": [
        "import json\n",
        "\n",
        "with open(f\"{file_path.split('.')[0]}_chunked_metadata_data.json\", \"w\") as f:\n",
        "    json.dump(metadata_data,f,indent=4)\n",
        ""
      ],
      "metadata": {
        "id": "qqQey1Bz2t5t"
      },
      "execution_count": 133,
      "outputs": []
    },
    {
      "cell_type": "code",
      "execution_count": 134,
      "metadata": {
        "id": "2OMOJ_ruITdw"
      },
      "outputs": [],
      "source": [
        "import json\n",
        "\n",
        "with open(f\"{file_path.split('.')[0]}_chunked_metadata_data.json\",\"r\") as f:\n",
        "  data = json.load(f)"
      ]
    },
    {
      "cell_type": "code",
      "source": [
        "# test_chunked_data = {}\n",
        "\n",
        "# for page_number,page_data in chunked_data.items():\n",
        "#   if page_number in [\"1\",\"2\",\"3\",\"4\"]:\n",
        "#     test_chunked_data[page_number] = page_data"
      ],
      "metadata": {
        "id": "P1C7_wdfixFL"
      },
      "execution_count": null,
      "outputs": []
    }
  ],
  "metadata": {
    "colab": {
      "provenance": []
    },
    "kernelspec": {
      "display_name": "Python 3",
      "name": "python3"
    },
    "language_info": {
      "name": "python"
    },
    "widgets": {
      "application/vnd.jupyter.widget-state+json": {
        "8bbaeec9ff0a4fc989452f806b0343b3": {
          "model_module": "@jupyter-widgets/controls",
          "model_name": "HBoxModel",
          "model_module_version": "1.5.0",
          "state": {
            "_dom_classes": [],
            "_model_module": "@jupyter-widgets/controls",
            "_model_module_version": "1.5.0",
            "_model_name": "HBoxModel",
            "_view_count": null,
            "_view_module": "@jupyter-widgets/controls",
            "_view_module_version": "1.5.0",
            "_view_name": "HBoxView",
            "box_style": "",
            "children": [
              "IPY_MODEL_60ee4cc16e554cf7b1d710c7c68afe98",
              "IPY_MODEL_6fa2044a7cb24abd9696188b5061e445",
              "IPY_MODEL_cd24a90c0e9545ae9d2a0c04eadb2e46"
            ],
            "layout": "IPY_MODEL_f876f6bc94b44244b3c0b6102702cf2e"
          }
        },
        "60ee4cc16e554cf7b1d710c7c68afe98": {
          "model_module": "@jupyter-widgets/controls",
          "model_name": "HTMLModel",
          "model_module_version": "1.5.0",
          "state": {
            "_dom_classes": [],
            "_model_module": "@jupyter-widgets/controls",
            "_model_module_version": "1.5.0",
            "_model_name": "HTMLModel",
            "_view_count": null,
            "_view_module": "@jupyter-widgets/controls",
            "_view_module_version": "1.5.0",
            "_view_name": "HTMLView",
            "description": "",
            "description_tooltip": null,
            "layout": "IPY_MODEL_ee44c4d8642845c5a4a2056cde64f1f1",
            "placeholder": "​",
            "style": "IPY_MODEL_d0bd8704ca5b43c3ac71402ab8b1863d",
            "value": "yolox_l0.05.onnx: 100%"
          }
        },
        "6fa2044a7cb24abd9696188b5061e445": {
          "model_module": "@jupyter-widgets/controls",
          "model_name": "FloatProgressModel",
          "model_module_version": "1.5.0",
          "state": {
            "_dom_classes": [],
            "_model_module": "@jupyter-widgets/controls",
            "_model_module_version": "1.5.0",
            "_model_name": "FloatProgressModel",
            "_view_count": null,
            "_view_module": "@jupyter-widgets/controls",
            "_view_module_version": "1.5.0",
            "_view_name": "ProgressView",
            "bar_style": "success",
            "description": "",
            "description_tooltip": null,
            "layout": "IPY_MODEL_f8ad1e1b560e4614bc3f50ba9f98270d",
            "max": 216625723,
            "min": 0,
            "orientation": "horizontal",
            "style": "IPY_MODEL_8982810205ef4764a496a1d6d108347b",
            "value": 216625723
          }
        },
        "cd24a90c0e9545ae9d2a0c04eadb2e46": {
          "model_module": "@jupyter-widgets/controls",
          "model_name": "HTMLModel",
          "model_module_version": "1.5.0",
          "state": {
            "_dom_classes": [],
            "_model_module": "@jupyter-widgets/controls",
            "_model_module_version": "1.5.0",
            "_model_name": "HTMLModel",
            "_view_count": null,
            "_view_module": "@jupyter-widgets/controls",
            "_view_module_version": "1.5.0",
            "_view_name": "HTMLView",
            "description": "",
            "description_tooltip": null,
            "layout": "IPY_MODEL_ab40f44ab15245fca02cdd1613a76f25",
            "placeholder": "​",
            "style": "IPY_MODEL_4e2e428476204cdbbe8dac7f25c3faa4",
            "value": " 217M/217M [00:01&lt;00:00, 169MB/s]"
          }
        },
        "f876f6bc94b44244b3c0b6102702cf2e": {
          "model_module": "@jupyter-widgets/base",
          "model_name": "LayoutModel",
          "model_module_version": "1.2.0",
          "state": {
            "_model_module": "@jupyter-widgets/base",
            "_model_module_version": "1.2.0",
            "_model_name": "LayoutModel",
            "_view_count": null,
            "_view_module": "@jupyter-widgets/base",
            "_view_module_version": "1.2.0",
            "_view_name": "LayoutView",
            "align_content": null,
            "align_items": null,
            "align_self": null,
            "border": null,
            "bottom": null,
            "display": null,
            "flex": null,
            "flex_flow": null,
            "grid_area": null,
            "grid_auto_columns": null,
            "grid_auto_flow": null,
            "grid_auto_rows": null,
            "grid_column": null,
            "grid_gap": null,
            "grid_row": null,
            "grid_template_areas": null,
            "grid_template_columns": null,
            "grid_template_rows": null,
            "height": null,
            "justify_content": null,
            "justify_items": null,
            "left": null,
            "margin": null,
            "max_height": null,
            "max_width": null,
            "min_height": null,
            "min_width": null,
            "object_fit": null,
            "object_position": null,
            "order": null,
            "overflow": null,
            "overflow_x": null,
            "overflow_y": null,
            "padding": null,
            "right": null,
            "top": null,
            "visibility": null,
            "width": null
          }
        },
        "ee44c4d8642845c5a4a2056cde64f1f1": {
          "model_module": "@jupyter-widgets/base",
          "model_name": "LayoutModel",
          "model_module_version": "1.2.0",
          "state": {
            "_model_module": "@jupyter-widgets/base",
            "_model_module_version": "1.2.0",
            "_model_name": "LayoutModel",
            "_view_count": null,
            "_view_module": "@jupyter-widgets/base",
            "_view_module_version": "1.2.0",
            "_view_name": "LayoutView",
            "align_content": null,
            "align_items": null,
            "align_self": null,
            "border": null,
            "bottom": null,
            "display": null,
            "flex": null,
            "flex_flow": null,
            "grid_area": null,
            "grid_auto_columns": null,
            "grid_auto_flow": null,
            "grid_auto_rows": null,
            "grid_column": null,
            "grid_gap": null,
            "grid_row": null,
            "grid_template_areas": null,
            "grid_template_columns": null,
            "grid_template_rows": null,
            "height": null,
            "justify_content": null,
            "justify_items": null,
            "left": null,
            "margin": null,
            "max_height": null,
            "max_width": null,
            "min_height": null,
            "min_width": null,
            "object_fit": null,
            "object_position": null,
            "order": null,
            "overflow": null,
            "overflow_x": null,
            "overflow_y": null,
            "padding": null,
            "right": null,
            "top": null,
            "visibility": null,
            "width": null
          }
        },
        "d0bd8704ca5b43c3ac71402ab8b1863d": {
          "model_module": "@jupyter-widgets/controls",
          "model_name": "DescriptionStyleModel",
          "model_module_version": "1.5.0",
          "state": {
            "_model_module": "@jupyter-widgets/controls",
            "_model_module_version": "1.5.0",
            "_model_name": "DescriptionStyleModel",
            "_view_count": null,
            "_view_module": "@jupyter-widgets/base",
            "_view_module_version": "1.2.0",
            "_view_name": "StyleView",
            "description_width": ""
          }
        },
        "f8ad1e1b560e4614bc3f50ba9f98270d": {
          "model_module": "@jupyter-widgets/base",
          "model_name": "LayoutModel",
          "model_module_version": "1.2.0",
          "state": {
            "_model_module": "@jupyter-widgets/base",
            "_model_module_version": "1.2.0",
            "_model_name": "LayoutModel",
            "_view_count": null,
            "_view_module": "@jupyter-widgets/base",
            "_view_module_version": "1.2.0",
            "_view_name": "LayoutView",
            "align_content": null,
            "align_items": null,
            "align_self": null,
            "border": null,
            "bottom": null,
            "display": null,
            "flex": null,
            "flex_flow": null,
            "grid_area": null,
            "grid_auto_columns": null,
            "grid_auto_flow": null,
            "grid_auto_rows": null,
            "grid_column": null,
            "grid_gap": null,
            "grid_row": null,
            "grid_template_areas": null,
            "grid_template_columns": null,
            "grid_template_rows": null,
            "height": null,
            "justify_content": null,
            "justify_items": null,
            "left": null,
            "margin": null,
            "max_height": null,
            "max_width": null,
            "min_height": null,
            "min_width": null,
            "object_fit": null,
            "object_position": null,
            "order": null,
            "overflow": null,
            "overflow_x": null,
            "overflow_y": null,
            "padding": null,
            "right": null,
            "top": null,
            "visibility": null,
            "width": null
          }
        },
        "8982810205ef4764a496a1d6d108347b": {
          "model_module": "@jupyter-widgets/controls",
          "model_name": "ProgressStyleModel",
          "model_module_version": "1.5.0",
          "state": {
            "_model_module": "@jupyter-widgets/controls",
            "_model_module_version": "1.5.0",
            "_model_name": "ProgressStyleModel",
            "_view_count": null,
            "_view_module": "@jupyter-widgets/base",
            "_view_module_version": "1.2.0",
            "_view_name": "StyleView",
            "bar_color": null,
            "description_width": ""
          }
        },
        "ab40f44ab15245fca02cdd1613a76f25": {
          "model_module": "@jupyter-widgets/base",
          "model_name": "LayoutModel",
          "model_module_version": "1.2.0",
          "state": {
            "_model_module": "@jupyter-widgets/base",
            "_model_module_version": "1.2.0",
            "_model_name": "LayoutModel",
            "_view_count": null,
            "_view_module": "@jupyter-widgets/base",
            "_view_module_version": "1.2.0",
            "_view_name": "LayoutView",
            "align_content": null,
            "align_items": null,
            "align_self": null,
            "border": null,
            "bottom": null,
            "display": null,
            "flex": null,
            "flex_flow": null,
            "grid_area": null,
            "grid_auto_columns": null,
            "grid_auto_flow": null,
            "grid_auto_rows": null,
            "grid_column": null,
            "grid_gap": null,
            "grid_row": null,
            "grid_template_areas": null,
            "grid_template_columns": null,
            "grid_template_rows": null,
            "height": null,
            "justify_content": null,
            "justify_items": null,
            "left": null,
            "margin": null,
            "max_height": null,
            "max_width": null,
            "min_height": null,
            "min_width": null,
            "object_fit": null,
            "object_position": null,
            "order": null,
            "overflow": null,
            "overflow_x": null,
            "overflow_y": null,
            "padding": null,
            "right": null,
            "top": null,
            "visibility": null,
            "width": null
          }
        },
        "4e2e428476204cdbbe8dac7f25c3faa4": {
          "model_module": "@jupyter-widgets/controls",
          "model_name": "DescriptionStyleModel",
          "model_module_version": "1.5.0",
          "state": {
            "_model_module": "@jupyter-widgets/controls",
            "_model_module_version": "1.5.0",
            "_model_name": "DescriptionStyleModel",
            "_view_count": null,
            "_view_module": "@jupyter-widgets/base",
            "_view_module_version": "1.2.0",
            "_view_name": "StyleView",
            "description_width": ""
          }
        }
      }
    }
  },
  "nbformat": 4,
  "nbformat_minor": 0
}