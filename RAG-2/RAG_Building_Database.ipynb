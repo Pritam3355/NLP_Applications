{
  "cells": [
    {
      "cell_type": "code",
      "execution_count": null,
      "metadata": {
        "id": "AOeZvIM6p8uj"
      },
      "outputs": [],
      "source": []
    },
    {
      "cell_type": "code",
      "execution_count": null,
      "metadata": {
        "id": "pD0CkfY2dD_H"
      },
      "outputs": [],
      "source": [
        "!rm -rf sample_data"
      ]
    },
    {
      "cell_type": "code",
      "execution_count": null,
      "metadata": {
        "colab": {
          "base_uri": "https://localhost:8080/"
        },
        "id": "s5SjwX2gqDWN",
        "outputId": "b89b7d11-7402-48e6-aa4a-42a9213a58c7"
      },
      "outputs": [
        {
          "output_type": "stream",
          "name": "stdout",
          "text": [
            "\u001b[?25l     \u001b[90m━━━━━━━━━━━━━━━━━━━━━━━━━━━━━━━━━━━━━━━━\u001b[0m \u001b[32m0.0/981.5 kB\u001b[0m \u001b[31m?\u001b[0m eta \u001b[36m-:--:--\u001b[0m\r\u001b[2K     \u001b[91m━━━━━━━━━━━━━━━\u001b[0m\u001b[90m╺\u001b[0m\u001b[90m━━━━━━━━━━━━━━━━━━━━━━━━\u001b[0m \u001b[32m368.6/981.5 kB\u001b[0m \u001b[31m11.6 MB/s\u001b[0m eta \u001b[36m0:00:01\u001b[0m\r\u001b[2K     \u001b[90m━━━━━━━━━━━━━━━━━━━━━━━━━━━━━━━━━━━━━━━━\u001b[0m \u001b[32m981.5/981.5 kB\u001b[0m \u001b[31m13.5 MB/s\u001b[0m eta \u001b[36m0:00:00\u001b[0m\n",
            "\u001b[?25h  Preparing metadata (setup.py) ... \u001b[?25l\u001b[?25hdone\n",
            "\u001b[2K     \u001b[90m━━━━━━━━━━━━━━━━━━━━━━━━━━━━━━━━━━━━━━━━\u001b[0m \u001b[32m149.4/149.4 kB\u001b[0m \u001b[31m12.5 MB/s\u001b[0m eta \u001b[36m0:00:00\u001b[0m\n",
            "\u001b[2K     \u001b[90m━━━━━━━━━━━━━━━━━━━━━━━━━━━━━━━━━━━━━━━━\u001b[0m \u001b[32m117.0/117.0 kB\u001b[0m \u001b[31m8.6 MB/s\u001b[0m eta \u001b[36m0:00:00\u001b[0m\n",
            "\u001b[?25h  Preparing metadata (setup.py) ... \u001b[?25l\u001b[?25hdone\n",
            "\u001b[2K     \u001b[90m━━━━━━━━━━━━━━━━━━━━━━━━━━━━━━━━━━━━━━━━\u001b[0m \u001b[32m42.2/42.2 kB\u001b[0m \u001b[31m3.3 MB/s\u001b[0m eta \u001b[36m0:00:00\u001b[0m\n",
            "\u001b[?25h  Preparing metadata (setup.py) ... \u001b[?25l\u001b[?25hdone\n",
            "\u001b[2K     \u001b[90m━━━━━━━━━━━━━━━━━━━━━━━━━━━━━━━━━━━━━━━━\u001b[0m \u001b[32m42.5/42.5 kB\u001b[0m \u001b[31m2.8 MB/s\u001b[0m eta \u001b[36m0:00:00\u001b[0m\n",
            "\u001b[2K     \u001b[90m━━━━━━━━━━━━━━━━━━━━━━━━━━━━━━━━━━━━━━━━\u001b[0m \u001b[32m48.2/48.2 kB\u001b[0m \u001b[31m4.0 MB/s\u001b[0m eta \u001b[36m0:00:00\u001b[0m\n",
            "\u001b[2K   \u001b[90m━━━━━━━━━━━━━━━━━━━━━━━━━━━━━━━━━━━━━━━━\u001b[0m \u001b[32m48.4/48.4 kB\u001b[0m \u001b[31m3.6 MB/s\u001b[0m eta \u001b[36m0:00:00\u001b[0m\n",
            "\u001b[2K   \u001b[90m━━━━━━━━━━━━━━━━━━━━━━━━━━━━━━━━━━━━━━━━\u001b[0m \u001b[32m244.3/244.3 kB\u001b[0m \u001b[31m16.9 MB/s\u001b[0m eta \u001b[36m0:00:00\u001b[0m\n",
            "\u001b[2K   \u001b[90m━━━━━━━━━━━━━━━━━━━━━━━━━━━━━━━━━━━━━━━━\u001b[0m \u001b[32m472.8/472.8 kB\u001b[0m \u001b[31m27.6 MB/s\u001b[0m eta \u001b[36m0:00:00\u001b[0m\n",
            "\u001b[2K   \u001b[90m━━━━━━━━━━━━━━━━━━━━━━━━━━━━━━━━━━━━━━━━\u001b[0m \u001b[32m112.5/112.5 kB\u001b[0m \u001b[31m8.1 MB/s\u001b[0m eta \u001b[36m0:00:00\u001b[0m\n",
            "\u001b[2K   \u001b[90m━━━━━━━━━━━━━━━━━━━━━━━━━━━━━━━━━━━━━━━━\u001b[0m \u001b[32m586.9/586.9 kB\u001b[0m \u001b[31m34.4 MB/s\u001b[0m eta \u001b[36m0:00:00\u001b[0m\n",
            "\u001b[2K   \u001b[90m━━━━━━━━━━━━━━━━━━━━━━━━━━━━━━━━━━━━━━━━\u001b[0m \u001b[32m514.6/514.6 kB\u001b[0m \u001b[31m34.5 MB/s\u001b[0m eta \u001b[36m0:00:00\u001b[0m\n",
            "\u001b[2K   \u001b[90m━━━━━━━━━━━━━━━━━━━━━━━━━━━━━━━━━━━━━━━━\u001b[0m \u001b[32m16.0/16.0 MB\u001b[0m \u001b[31m84.6 MB/s\u001b[0m eta \u001b[36m0:00:00\u001b[0m\n",
            "\u001b[2K   \u001b[90m━━━━━━━━━━━━━━━━━━━━━━━━━━━━━━━━━━━━━━━━\u001b[0m \u001b[32m1.2/1.2 MB\u001b[0m \u001b[31m47.5 MB/s\u001b[0m eta \u001b[36m0:00:00\u001b[0m\n",
            "\u001b[2K   \u001b[90m━━━━━━━━━━━━━━━━━━━━━━━━━━━━━━━━━━━━━━━━\u001b[0m \u001b[32m2.4/2.4 MB\u001b[0m \u001b[31m65.9 MB/s\u001b[0m eta \u001b[36m0:00:00\u001b[0m\n",
            "\u001b[2K   \u001b[90m━━━━━━━━━━━━━━━━━━━━━━━━━━━━━━━━━━━━━━━━\u001b[0m \u001b[32m298.0/298.0 kB\u001b[0m \u001b[31m22.2 MB/s\u001b[0m eta \u001b[36m0:00:00\u001b[0m\n",
            "\u001b[2K   \u001b[90m━━━━━━━━━━━━━━━━━━━━━━━━━━━━━━━━━━━━━━━━\u001b[0m \u001b[32m274.9/274.9 kB\u001b[0m \u001b[31m18.6 MB/s\u001b[0m eta \u001b[36m0:00:00\u001b[0m\n",
            "\u001b[2K   \u001b[90m━━━━━━━━━━━━━━━━━━━━━━━━━━━━━━━━━━━━━━━━\u001b[0m \u001b[32m3.1/3.1 MB\u001b[0m \u001b[31m78.8 MB/s\u001b[0m eta \u001b[36m0:00:00\u001b[0m\n",
            "\u001b[2K   \u001b[90m━━━━━━━━━━━━━━━━━━━━━━━━━━━━━━━━━━━━━━━━\u001b[0m \u001b[32m1.7/1.7 MB\u001b[0m \u001b[31m64.9 MB/s\u001b[0m eta \u001b[36m0:00:00\u001b[0m\n",
            "\u001b[2K   \u001b[90m━━━━━━━━━━━━━━━━━━━━━━━━━━━━━━━━━━━━━━━━\u001b[0m \u001b[32m62.9/62.9 kB\u001b[0m \u001b[31m4.7 MB/s\u001b[0m eta \u001b[36m0:00:00\u001b[0m\n",
            "\u001b[2K   \u001b[90m━━━━━━━━━━━━━━━━━━━━━━━━━━━━━━━━━━━━━━━━\u001b[0m \u001b[32m434.9/434.9 kB\u001b[0m \u001b[31m29.7 MB/s\u001b[0m eta \u001b[36m0:00:00\u001b[0m\n",
            "\u001b[2K   \u001b[90m━━━━━━━━━━━━━━━━━━━━━━━━━━━━━━━━━━━━━━━━\u001b[0m \u001b[32m2.1/2.1 MB\u001b[0m \u001b[31m48.8 MB/s\u001b[0m eta \u001b[36m0:00:00\u001b[0m\n",
            "\u001b[2K   \u001b[90m━━━━━━━━━━━━━━━━━━━━━━━━━━━━━━━━━━━━━━━━\u001b[0m \u001b[32m49.3/49.3 kB\u001b[0m \u001b[31m3.5 MB/s\u001b[0m eta \u001b[36m0:00:00\u001b[0m\n",
            "\u001b[2K   \u001b[90m━━━━━━━━━━━━━━━━━━━━━━━━━━━━━━━━━━━━━━━━\u001b[0m \u001b[32m79.5/79.5 kB\u001b[0m \u001b[31m6.0 MB/s\u001b[0m eta \u001b[36m0:00:00\u001b[0m\n",
            "\u001b[2K   \u001b[90m━━━━━━━━━━━━━━━━━━━━━━━━━━━━━━━━━━━━━━━━\u001b[0m \u001b[32m13.3/13.3 MB\u001b[0m \u001b[31m84.6 MB/s\u001b[0m eta \u001b[36m0:00:00\u001b[0m\n",
            "\u001b[2K   \u001b[90m━━━━━━━━━━━━━━━━━━━━━━━━━━━━━━━━━━━━━━━━\u001b[0m \u001b[32m159.9/159.9 kB\u001b[0m \u001b[31m12.3 MB/s\u001b[0m eta \u001b[36m0:00:00\u001b[0m\n",
            "\u001b[2K   \u001b[90m━━━━━━━━━━━━━━━━━━━━━━━━━━━━━━━━━━━━━━━━\u001b[0m \u001b[32m19.2/19.2 MB\u001b[0m \u001b[31m27.3 MB/s\u001b[0m eta \u001b[36m0:00:00\u001b[0m\n",
            "\u001b[2K   \u001b[90m━━━━━━━━━━━━━━━━━━━━━━━━━━━━━━━━━━━━━━━━\u001b[0m \u001b[32m114.6/114.6 kB\u001b[0m \u001b[31m7.2 MB/s\u001b[0m eta \u001b[36m0:00:00\u001b[0m\n",
            "\u001b[2K   \u001b[90m━━━━━━━━━━━━━━━━━━━━━━━━━━━━━━━━━━━━━━━━\u001b[0m \u001b[32m46.0/46.0 kB\u001b[0m \u001b[31m3.2 MB/s\u001b[0m eta \u001b[36m0:00:00\u001b[0m\n",
            "\u001b[2K   \u001b[90m━━━━━━━━━━━━━━━━━━━━━━━━━━━━━━━━━━━━━━━━\u001b[0m \u001b[32m59.5/59.5 kB\u001b[0m \u001b[31m4.1 MB/s\u001b[0m eta \u001b[36m0:00:00\u001b[0m\n",
            "\u001b[2K   \u001b[90m━━━━━━━━━━━━━━━━━━━━━━━━━━━━━━━━━━━━━━━━\u001b[0m \u001b[32m5.6/5.6 MB\u001b[0m \u001b[31m77.5 MB/s\u001b[0m eta \u001b[36m0:00:00\u001b[0m\n",
            "\u001b[2K   \u001b[90m━━━━━━━━━━━━━━━━━━━━━━━━━━━━━━━━━━━━━━━━\u001b[0m \u001b[32m86.8/86.8 kB\u001b[0m \u001b[31m7.1 MB/s\u001b[0m eta \u001b[36m0:00:00\u001b[0m\n",
            "\u001b[2K   \u001b[90m━━━━━━━━━━━━━━━━━━━━━━━━━━━━━━━━━━━━━━━━\u001b[0m \u001b[32m2.9/2.9 MB\u001b[0m \u001b[31m79.7 MB/s\u001b[0m eta \u001b[36m0:00:00\u001b[0m\n",
            "\u001b[?25h  Building wheel for langdetect (setup.py) ... \u001b[?25l\u001b[?25hdone\n",
            "  Building wheel for antlr4-python3-runtime (setup.py) ... \u001b[?25l\u001b[?25hdone\n",
            "  Building wheel for iopath (setup.py) ... \u001b[?25l\u001b[?25hdone\n"
          ]
        }
      ],
      "source": [
        "! pip install -q \"unstructured[all-docs]\" pillow pydantic lxml pytesseract"
      ]
    },
    {
      "cell_type": "code",
      "execution_count": null,
      "metadata": {
        "colab": {
          "base_uri": "https://localhost:8080/"
        },
        "id": "rjg078yeqDZd",
        "outputId": "9b2a42e4-1a2e-4dc0-c8c2-b8b1cfb27472"
      },
      "outputs": [
        {
          "output_type": "stream",
          "name": "stdout",
          "text": [
            "Get:1 https://developer.download.nvidia.com/compute/cuda/repos/ubuntu2204/x86_64  InRelease [1,581 B]\n",
            "Get:2 https://developer.download.nvidia.com/compute/cuda/repos/ubuntu2204/x86_64  Packages [1,199 kB]\n",
            "Get:3 http://security.ubuntu.com/ubuntu jammy-security InRelease [129 kB]\n",
            "Get:4 https://cloud.r-project.org/bin/linux/ubuntu jammy-cran40/ InRelease [3,626 B]\n",
            "Get:5 https://cloud.r-project.org/bin/linux/ubuntu jammy-cran40/ Packages [61.9 kB]\n",
            "Hit:6 http://archive.ubuntu.com/ubuntu jammy InRelease\n",
            "Get:7 https://r2u.stat.illinois.edu/ubuntu jammy InRelease [6,555 B]\n",
            "Get:8 http://archive.ubuntu.com/ubuntu jammy-updates InRelease [128 kB]\n",
            "Hit:9 https://ppa.launchpadcontent.net/deadsnakes/ppa/ubuntu jammy InRelease\n",
            "Get:10 https://r2u.stat.illinois.edu/ubuntu jammy/main amd64 Packages [2,631 kB]\n",
            "Hit:11 https://ppa.launchpadcontent.net/graphics-drivers/ppa/ubuntu jammy InRelease\n",
            "Hit:12 https://ppa.launchpadcontent.net/ubuntugis/ppa/ubuntu jammy InRelease\n",
            "Get:13 http://security.ubuntu.com/ubuntu jammy-security/universe amd64 Packages [1,226 kB]\n",
            "Get:14 http://archive.ubuntu.com/ubuntu jammy-backports InRelease [127 kB]\n",
            "Get:15 http://archive.ubuntu.com/ubuntu jammy-updates/main amd64 Packages [2,854 kB]\n",
            "Get:16 http://security.ubuntu.com/ubuntu jammy-security/restricted amd64 Packages [3,513 kB]\n",
            "Get:17 http://security.ubuntu.com/ubuntu jammy-security/main amd64 Packages [2,554 kB]\n",
            "Get:18 http://archive.ubuntu.com/ubuntu jammy-updates/restricted amd64 Packages [3,652 kB]\n",
            "Get:19 http://archive.ubuntu.com/ubuntu jammy-updates/universe amd64 Packages [1,517 kB]\n",
            "Fetched 19.6 MB in 5s (4,107 kB/s)\n",
            "Reading package lists... Done\n",
            "W: Skipping acquire of configured file 'main/source/Sources' as repository 'https://r2u.stat.illinois.edu/ubuntu jammy InRelease' does not seem to provide it (sources.list entry misspelt?)\n"
          ]
        }
      ],
      "source": [
        "!sudo apt-get update"
      ]
    },
    {
      "cell_type": "code",
      "execution_count": null,
      "metadata": {
        "colab": {
          "base_uri": "https://localhost:8080/"
        },
        "id": "O5CZIuk2qDi3",
        "outputId": "4c425b29-4bc0-483f-dae0-3369cb3c895e"
      },
      "outputs": [
        {
          "output_type": "stream",
          "name": "stdout",
          "text": [
            "Reading package lists... Done\n",
            "Building dependency tree... Done\n",
            "Reading state information... Done\n",
            "The following additional packages will be installed:\n",
            "  libarchive-dev libimagequant0 libraqm0 mailcap mime-support python3-olefile\n",
            "  tesseract-ocr-osd\n",
            "Suggested packages:\n",
            "  python-pil-doc\n",
            "The following NEW packages will be installed:\n",
            "  libarchive-dev libimagequant0 libleptonica-dev libraqm0 libtesseract-dev\n",
            "  mailcap mime-support poppler-utils python3-olefile python3-pil tesseract-ocr\n",
            "  tesseract-ocr-eng tesseract-ocr-osd tesseract-ocr-script-latn\n",
            "0 upgraded, 14 newly installed, 0 to remove and 52 not upgraded.\n",
            "Need to get 40.2 MB of archives.\n",
            "After this operation, 124 MB of additional disk space will be used.\n",
            "Get:1 http://archive.ubuntu.com/ubuntu jammy-updates/main amd64 libarchive-dev amd64 3.6.0-1ubuntu1.3 [581 kB]\n",
            "Get:2 http://archive.ubuntu.com/ubuntu jammy/main amd64 libimagequant0 amd64 2.17.0-1 [34.6 kB]\n",
            "Get:3 http://archive.ubuntu.com/ubuntu jammy/universe amd64 libleptonica-dev amd64 1.82.0-3build1 [1,562 kB]\n",
            "Get:4 http://archive.ubuntu.com/ubuntu jammy/main amd64 libraqm0 amd64 0.7.0-4ubuntu1 [11.7 kB]\n",
            "Get:5 http://archive.ubuntu.com/ubuntu jammy/universe amd64 libtesseract-dev amd64 4.1.1-2.1build1 [1,600 kB]\n",
            "Get:6 http://archive.ubuntu.com/ubuntu jammy/main amd64 mailcap all 3.70+nmu1ubuntu1 [23.8 kB]\n",
            "Get:7 http://archive.ubuntu.com/ubuntu jammy/main amd64 mime-support all 3.66 [3,696 B]\n",
            "Get:8 http://archive.ubuntu.com/ubuntu jammy-updates/main amd64 poppler-utils amd64 22.02.0-2ubuntu0.5 [186 kB]\n",
            "Get:9 http://archive.ubuntu.com/ubuntu jammy/main amd64 python3-olefile all 0.46-3 [33.8 kB]\n",
            "Get:10 http://archive.ubuntu.com/ubuntu jammy-updates/main amd64 python3-pil amd64 9.0.1-1ubuntu0.3 [419 kB]\n",
            "Get:11 http://archive.ubuntu.com/ubuntu jammy/universe amd64 tesseract-ocr-eng all 1:4.00~git30-7274cfa-1.1 [1,591 kB]\n",
            "Get:12 http://archive.ubuntu.com/ubuntu jammy/universe amd64 tesseract-ocr-osd all 1:4.00~git30-7274cfa-1.1 [2,990 kB]\n",
            "Get:13 http://archive.ubuntu.com/ubuntu jammy/universe amd64 tesseract-ocr amd64 4.1.1-2.1build1 [236 kB]\n",
            "Get:14 http://archive.ubuntu.com/ubuntu jammy/universe amd64 tesseract-ocr-script-latn all 1:4.00~git30-7274cfa-1.1 [30.9 MB]\n",
            "Fetched 40.2 MB in 5s (7,963 kB/s)\n",
            "debconf: unable to initialize frontend: Dialog\n",
            "debconf: (No usable dialog-like program is installed, so the dialog based frontend cannot be used. at /usr/share/perl5/Debconf/FrontEnd/Dialog.pm line 78, <> line 14.)\n",
            "debconf: falling back to frontend: Readline\n",
            "debconf: unable to initialize frontend: Readline\n",
            "debconf: (This frontend requires a controlling tty.)\n",
            "debconf: falling back to frontend: Teletype\n",
            "dpkg-preconfigure: unable to re-open stdin: \n",
            "Selecting previously unselected package libarchive-dev:amd64.\n",
            "(Reading database ... 123632 files and directories currently installed.)\n",
            "Preparing to unpack .../00-libarchive-dev_3.6.0-1ubuntu1.3_amd64.deb ...\n",
            "Unpacking libarchive-dev:amd64 (3.6.0-1ubuntu1.3) ...\n",
            "Selecting previously unselected package libimagequant0:amd64.\n",
            "Preparing to unpack .../01-libimagequant0_2.17.0-1_amd64.deb ...\n",
            "Unpacking libimagequant0:amd64 (2.17.0-1) ...\n",
            "Selecting previously unselected package libleptonica-dev.\n",
            "Preparing to unpack .../02-libleptonica-dev_1.82.0-3build1_amd64.deb ...\n",
            "Unpacking libleptonica-dev (1.82.0-3build1) ...\n",
            "Selecting previously unselected package libraqm0:amd64.\n",
            "Preparing to unpack .../03-libraqm0_0.7.0-4ubuntu1_amd64.deb ...\n",
            "Unpacking libraqm0:amd64 (0.7.0-4ubuntu1) ...\n",
            "Selecting previously unselected package libtesseract-dev:amd64.\n",
            "Preparing to unpack .../04-libtesseract-dev_4.1.1-2.1build1_amd64.deb ...\n",
            "Unpacking libtesseract-dev:amd64 (4.1.1-2.1build1) ...\n",
            "Selecting previously unselected package mailcap.\n",
            "Preparing to unpack .../05-mailcap_3.70+nmu1ubuntu1_all.deb ...\n",
            "Unpacking mailcap (3.70+nmu1ubuntu1) ...\n",
            "Selecting previously unselected package mime-support.\n",
            "Preparing to unpack .../06-mime-support_3.66_all.deb ...\n",
            "Unpacking mime-support (3.66) ...\n",
            "Selecting previously unselected package poppler-utils.\n",
            "Preparing to unpack .../07-poppler-utils_22.02.0-2ubuntu0.5_amd64.deb ...\n",
            "Unpacking poppler-utils (22.02.0-2ubuntu0.5) ...\n",
            "Selecting previously unselected package python3-olefile.\n",
            "Preparing to unpack .../08-python3-olefile_0.46-3_all.deb ...\n",
            "Unpacking python3-olefile (0.46-3) ...\n",
            "Selecting previously unselected package python3-pil:amd64.\n",
            "Preparing to unpack .../09-python3-pil_9.0.1-1ubuntu0.3_amd64.deb ...\n",
            "Unpacking python3-pil:amd64 (9.0.1-1ubuntu0.3) ...\n",
            "Selecting previously unselected package tesseract-ocr-eng.\n",
            "Preparing to unpack .../10-tesseract-ocr-eng_1%3a4.00~git30-7274cfa-1.1_all.deb ...\n",
            "Unpacking tesseract-ocr-eng (1:4.00~git30-7274cfa-1.1) ...\n",
            "Selecting previously unselected package tesseract-ocr-osd.\n",
            "Preparing to unpack .../11-tesseract-ocr-osd_1%3a4.00~git30-7274cfa-1.1_all.deb ...\n",
            "Unpacking tesseract-ocr-osd (1:4.00~git30-7274cfa-1.1) ...\n",
            "Selecting previously unselected package tesseract-ocr.\n",
            "Preparing to unpack .../12-tesseract-ocr_4.1.1-2.1build1_amd64.deb ...\n",
            "Unpacking tesseract-ocr (4.1.1-2.1build1) ...\n",
            "Selecting previously unselected package tesseract-ocr-script-latn.\n",
            "Preparing to unpack .../13-tesseract-ocr-script-latn_1%3a4.00~git30-7274cfa-1.1_all.deb ...\n",
            "Unpacking tesseract-ocr-script-latn (1:4.00~git30-7274cfa-1.1) ...\n",
            "Setting up tesseract-ocr-script-latn (1:4.00~git30-7274cfa-1.1) ...\n",
            "Setting up python3-olefile (0.46-3) ...\n",
            "Setting up tesseract-ocr-eng (1:4.00~git30-7274cfa-1.1) ...\n",
            "Setting up libleptonica-dev (1.82.0-3build1) ...\n",
            "Setting up libraqm0:amd64 (0.7.0-4ubuntu1) ...\n",
            "Setting up libimagequant0:amd64 (2.17.0-1) ...\n",
            "Setting up libarchive-dev:amd64 (3.6.0-1ubuntu1.3) ...\n",
            "Setting up tesseract-ocr-osd (1:4.00~git30-7274cfa-1.1) ...\n",
            "Setting up poppler-utils (22.02.0-2ubuntu0.5) ...\n",
            "Setting up mailcap (3.70+nmu1ubuntu1) ...\n",
            "Setting up libtesseract-dev:amd64 (4.1.1-2.1build1) ...\n",
            "Setting up mime-support (3.66) ...\n",
            "Setting up python3-pil:amd64 (9.0.1-1ubuntu0.3) ...\n",
            "Setting up tesseract-ocr (4.1.1-2.1build1) ...\n",
            "Processing triggers for man-db (2.10.2-1) ...\n",
            "Processing triggers for libc-bin (2.35-0ubuntu3.4) ...\n",
            "/sbin/ldconfig.real: /usr/local/lib/libur_adapter_opencl.so.0 is not a symbolic link\n",
            "\n",
            "/sbin/ldconfig.real: /usr/local/lib/libur_loader.so.0 is not a symbolic link\n",
            "\n",
            "/sbin/ldconfig.real: /usr/local/lib/libhwloc.so.15 is not a symbolic link\n",
            "\n",
            "/sbin/ldconfig.real: /usr/local/lib/libtbbbind_2_0.so.3 is not a symbolic link\n",
            "\n",
            "/sbin/ldconfig.real: /usr/local/lib/libtbbbind_2_5.so.3 is not a symbolic link\n",
            "\n",
            "/sbin/ldconfig.real: /usr/local/lib/libumf.so.0 is not a symbolic link\n",
            "\n",
            "/sbin/ldconfig.real: /usr/local/lib/libtcm_debug.so.1 is not a symbolic link\n",
            "\n",
            "/sbin/ldconfig.real: /usr/local/lib/libtbbbind.so.3 is not a symbolic link\n",
            "\n",
            "/sbin/ldconfig.real: /usr/local/lib/libtcm.so.1 is not a symbolic link\n",
            "\n",
            "/sbin/ldconfig.real: /usr/local/lib/libur_adapter_level_zero.so.0 is not a symbolic link\n",
            "\n",
            "/sbin/ldconfig.real: /usr/local/lib/libtbbmalloc.so.2 is not a symbolic link\n",
            "\n",
            "/sbin/ldconfig.real: /usr/local/lib/libtbb.so.12 is not a symbolic link\n",
            "\n",
            "/sbin/ldconfig.real: /usr/local/lib/libtbbmalloc_proxy.so.2 is not a symbolic link\n",
            "\n"
          ]
        }
      ],
      "source": [
        "!sudo apt-get install poppler-utils libleptonica-dev tesseract-ocr libtesseract-dev python3-pil tesseract-ocr-eng tesseract-ocr-script-latn\n"
      ]
    },
    {
      "cell_type": "code",
      "execution_count": null,
      "metadata": {
        "colab": {
          "base_uri": "https://localhost:8080/"
        },
        "id": "MvT-64Tzr-9v",
        "outputId": "065a82b2-2b00-4768-eb73-d9248ad9fd5e"
      },
      "outputs": [
        {
          "output_type": "stream",
          "name": "stdout",
          "text": [
            "  Preparing metadata (setup.py) ... \u001b[?25l\u001b[?25hdone\n",
            "  Building wheel for tesseract-ocr (setup.py) ... \u001b[?25l\u001b[?25hdone\n"
          ]
        }
      ],
      "source": [
        "!pip install -q unstructured-pytesseract tesseract-ocr pytesseract"
      ]
    },
    {
      "cell_type": "code",
      "execution_count": null,
      "metadata": {
        "colab": {
          "base_uri": "https://localhost:8080/"
        },
        "id": "KEKUol8esEx7",
        "outputId": "da64f966-f82d-4b26-ec6d-6833bcd6ab27"
      },
      "outputs": [
        {
          "output_type": "stream",
          "name": "stdout",
          "text": [
            "\r0% [Working]\r            \rHit:1 https://cloud.r-project.org/bin/linux/ubuntu jammy-cran40/ InRelease\n",
            "Hit:2 https://developer.download.nvidia.com/compute/cuda/repos/ubuntu2204/x86_64  InRelease\n",
            "Hit:3 http://security.ubuntu.com/ubuntu jammy-security InRelease\n",
            "Hit:4 http://archive.ubuntu.com/ubuntu jammy InRelease\n",
            "Hit:5 http://archive.ubuntu.com/ubuntu jammy-updates InRelease\n",
            "Hit:6 https://r2u.stat.illinois.edu/ubuntu jammy InRelease\n",
            "Hit:7 http://archive.ubuntu.com/ubuntu jammy-backports InRelease\n",
            "Hit:8 https://ppa.launchpadcontent.net/deadsnakes/ppa/ubuntu jammy InRelease\n",
            "Hit:9 https://ppa.launchpadcontent.net/graphics-drivers/ppa/ubuntu jammy InRelease\n",
            "Hit:10 https://ppa.launchpadcontent.net/ubuntugis/ppa/ubuntu jammy InRelease\n",
            "Reading package lists... Done\n",
            "W: Skipping acquire of configured file 'main/source/Sources' as repository 'https://r2u.stat.illinois.edu/ubuntu jammy InRelease' does not seem to provide it (sources.list entry misspelt?)\n"
          ]
        }
      ],
      "source": [
        "!sudo apt-get update"
      ]
    },
    {
      "cell_type": "markdown",
      "metadata": {
        "id": "dowGYVcruTlX"
      },
      "source": [
        "### https://docs.unstructured.io/open-source/core-functionality/cleaning"
      ]
    },
    {
      "cell_type": "code",
      "execution_count": null,
      "metadata": {
        "id": "VKC9IjfHsLTt"
      },
      "outputs": [],
      "source": [
        "import os\n",
        "from unstructured.partition.pdf import partition_pdf"
      ]
    },
    {
      "cell_type": "code",
      "execution_count": null,
      "metadata": {
        "id": "5ltGTSAmsV3r"
      },
      "outputs": [],
      "source": [
        "\n",
        "file_path=\"/content/multi_modal_2.pdf\"\n",
        "image_path = file_path.split(\".\")[0]+\"_images\"\n",
        "# os.makedirs(image_path, exist_ok=True)"
      ]
    },
    {
      "cell_type": "code",
      "execution_count": null,
      "metadata": {
        "colab": {
          "base_uri": "https://localhost:8080/",
          "height": 49,
          "referenced_widgets": [
            "31fc34214eac4680b47940e54a7977e7",
            "6159247139e44b958912233ae1594539",
            "b5e4fb154d2e4037afe660c06d954214",
            "04a9e82f33fc456fb1c2960a2d428e62",
            "843cb1b2fdb247ffb348fd490c700d2b",
            "d4da396f4f184e89ae0fca883d19297f",
            "86b2c7ac0bae48a2a073f0c5ce5cbcd0",
            "79419fd021ae42429b9ab025417b48aa",
            "f8e6eb62ece541f7a3fa10ab5b0cacb8",
            "e381513bb2e44470b914eac6ec7150dd",
            "ae12ba75457d4f0aa25fa372d3741fbe"
          ]
        },
        "id": "QZ-oegJ6sLeq",
        "outputId": "66c0132b-60c9-4384-c6c3-fa282cd826a9"
      },
      "outputs": [
        {
          "output_type": "display_data",
          "data": {
            "text/plain": [
              "yolox_l0.05.onnx:   0%|          | 0.00/217M [00:00<?, ?B/s]"
            ],
            "application/vnd.jupyter.widget-view+json": {
              "version_major": 2,
              "version_minor": 0,
              "model_id": "31fc34214eac4680b47940e54a7977e7"
            }
          },
          "metadata": {}
        }
      ],
      "source": [
        "raw_pdf_elements=partition_pdf(\n",
        "    filename=file_path,\n",
        "    strategy=\"hi_res\", # \"ocr_only\"\n",
        "    extract_images_in_pdf=True,\n",
        "    extract_image_block_types=[\"Image\", \"Table\"],\n",
        "    extract_image_block_to_payload=False, # integrating these images directly into web applications or APIs\n",
        "    extract_image_block_output_dir=image_path\n",
        "  )\n"
      ]
    },
    {
      "cell_type": "markdown",
      "metadata": {
        "id": "duboKQMPcVIi"
      },
      "source": [
        "\n",
        "\n",
        "    {'type': 'UncategorizedText',\n",
        "    'element_id': '99af06b76b3735bf97d0acd0105110da',\n",
        "    'text': '4',\n",
        "    'metadata': {'coordinates': {'points': ((45.388888888888886,\n",
        "        583.4999999999998),\n",
        "        (45.388888888888886, 611.2777777777776),\n",
        "        (100.94444444444446, 611.2777777777776),\n",
        "        (100.94444444444446, 583.4999999999998)),\n",
        "      'system': 'PixelSpace',\n",
        "      'layout_width': 1700,\n",
        "      'layout_height': 2200},\n",
        "      'last_modified': '2025-01-05T11:21:32',\n",
        "      'filetype': 'application/pdf',\n",
        "      'languages': ['eng'],\n",
        "      'page_number': 1,\n",
        "      'file_directory': '/content',\n",
        "      'filename': 'multi_modal_2.pdf'}}"
      ]
    },
    {
      "cell_type": "code",
      "execution_count": null,
      "metadata": {
        "id": "dAILenWpsLjq",
        "colab": {
          "base_uri": "https://localhost:8080/"
        },
        "outputId": "47485d62-ca6f-45c1-a924-68dacc7fc344"
      },
      "outputs": [
        {
          "output_type": "execute_result",
          "data": {
            "text/plain": [
              "{1: {'FigureCaption', 'Header', 'NarrativeText', 'Title', 'UncategorizedText'},\n",
              " 2: {'FigureCaption', 'Footer', 'Image', 'NarrativeText', 'Table', 'Title'},\n",
              " 3: {'Footer', 'Formula', 'ListItem', 'NarrativeText', 'Title'},\n",
              " 4: {'FigureCaption', 'Image', 'NarrativeText', 'Title', 'UncategorizedText'},\n",
              " 5: {'Footer', 'Image', 'NarrativeText', 'Title'},\n",
              " 6: {'Formula', 'ListItem', 'NarrativeText', 'UncategorizedText'},\n",
              " 7: {'Footer', 'ListItem', 'NarrativeText', 'Title'},\n",
              " 8: {'FigureCaption',\n",
              "  'Footer',\n",
              "  'ListItem',\n",
              "  'NarrativeText',\n",
              "  'Table',\n",
              "  'Title',\n",
              "  'UncategorizedText'},\n",
              " 9: {'FigureCaption',\n",
              "  'Footer',\n",
              "  'Image',\n",
              "  'ListItem',\n",
              "  'NarrativeText',\n",
              "  'Table',\n",
              "  'Title',\n",
              "  'UncategorizedText'},\n",
              " 10: {'FigureCaption', 'Footer', 'Image', 'NarrativeText', 'Table', 'Title'},\n",
              " 11: {'Footer', 'ListItem', 'NarrativeText', 'Title'},\n",
              " 12: {'Footer', 'ListItem'},\n",
              " 13: {'Footer', 'ListItem', 'UncategorizedText'},\n",
              " 14: {'ListItem', 'UncategorizedText'},\n",
              " 15: {'FigureCaption',\n",
              "  'Footer',\n",
              "  'Image',\n",
              "  'ListItem',\n",
              "  'NarrativeText',\n",
              "  'Table',\n",
              "  'Title'},\n",
              " 16: {'FigureCaption',\n",
              "  'Footer',\n",
              "  'Image',\n",
              "  'ListItem',\n",
              "  'NarrativeText',\n",
              "  'Table',\n",
              "  'Title'},\n",
              " 17: {'Footer', 'Formula', 'ListItem', 'NarrativeText', 'Title'},\n",
              " 18: {'Footer', 'NarrativeText', 'Title'},\n",
              " 19: {'Header', 'NarrativeText', 'Table', 'Title'}}"
            ]
          },
          "metadata": {},
          "execution_count": 11
        }
      ],
      "source": [
        "all_elements = {}\n",
        "\n",
        "for element in raw_pdf_elements:\n",
        "  element = element.to_dict()\n",
        "  if element[\"metadata\"][\"page_number\"] not in all_elements:\n",
        "    all_elements[element[\"metadata\"][\"page_number\"]] = set()\n",
        "  else:\n",
        "    all_elements[element[\"metadata\"][\"page_number\"]].add(element[\"type\"])\n",
        "\n",
        "\n",
        "all_elements\n"
      ]
    },
    {
      "cell_type": "code",
      "execution_count": null,
      "metadata": {
        "id": "HLNzO6d3YSWU"
      },
      "outputs": [],
      "source": [
        "import os\n",
        "import cv2\n",
        "import pytesseract\n",
        "\n",
        "class ImageTableProcessing:\n",
        "    def __init__(self, page_number,image_path):\n",
        "        self.page_number = page_number\n",
        "        self.image_path = image_path\n",
        "        self.image_map = {}\n",
        "        self.table_map = {}\n",
        "\n",
        "\n",
        "    def set_image_map(self):\n",
        "      image_map = {}\n",
        "      for filename in os.listdir(self.image_path):\n",
        "            if filename.startswith(\"figure-\"):\n",
        "              parts = filename.replace(\".jpg\", \"\").split(\"-\")\n",
        "              curr_page_number, curr_image_number = parts[1], parts[2]\n",
        "              if curr_page_number == self.page_number:\n",
        "                    if curr_page_number not in image_map:\n",
        "                        image_map[curr_page_number] = {}\n",
        "                    # Create a dictionary for curr_image_number if it doesn't exist\n",
        "                    if curr_image_number not in image_map[curr_page_number]:\n",
        "                        image_map[curr_page_number][curr_image_number] = {}\n",
        "                    image_map[curr_page_number][curr_image_number][\"image_path\"] = os.path.join(self.image_path, filename)\n",
        "                    image_map[curr_page_number][curr_image_number][\"image_heading\"] = \"\"\n",
        "      self.image_map = image_map\n",
        "\n",
        "    def set_table_map(self):\n",
        "        table_map = {}\n",
        "        for filename in os.listdir(self.image_path):\n",
        "            if filename.startswith(\"table-\"):\n",
        "                parts = filename.replace(\".jpg\", \"\").split(\"-\")\n",
        "                curr_page_number, curr_table_number = parts[1], parts[2]\n",
        "\n",
        "                if curr_page_number == self.page_number:\n",
        "                    if curr_page_number not in table_map:\n",
        "                        table_map[curr_page_number] = {}\n",
        "                    if curr_table_number not in table_map[curr_page_number]:\n",
        "                        table_map[curr_page_number][curr_table_number] = {}\n",
        "\n",
        "                    table_image_path = os.path.join(self.image_path, filename)\n",
        "                    table_image = cv2.imread(table_image_path)\n",
        "                    table_text = pytesseract.image_to_string(table_image)\n",
        "\n",
        "                    table_map[curr_page_number][curr_table_number][\"table_path\"] = table_image_path\n",
        "                    table_map[curr_page_number][curr_table_number][\"table_heading\"] = \"\"\n",
        "                    table_map[curr_page_number][curr_table_number][\"table_data\"] = table_text\n",
        "\n",
        "\n",
        "        self.table_map = table_map\n",
        "\n",
        "    def get_image_map(self):\n",
        "        return self.image_map\n",
        "\n",
        "    def get_table_map(self):\n",
        "        return self.table_map\n",
        "\n"
      ]
    },
    {
      "cell_type": "code",
      "execution_count": null,
      "metadata": {
        "id": "C_VNoXn1_Muq"
      },
      "outputs": [],
      "source": [
        "import unicodedata\n",
        "\n",
        "class PDFDataProcessor:\n",
        "    def __init__(self, raw_pdf_elements,image_path):\n",
        "        self.raw_pdf_elements = raw_pdf_elements\n",
        "        self.image_path = image_path\n",
        "        self.data = {}\n",
        "\n",
        "    def _remove_unicode(self, text):\n",
        "        return unicodedata.normalize(\"NFKD\", text).encode(\"ascii\", \"ignore\").decode(\"utf-8\")\n",
        "\n",
        "    def process_elements(self):\n",
        "        for element in self.raw_pdf_elements:\n",
        "            element = element.to_dict()\n",
        "            if \"document_metadata\" not in self.data:\n",
        "                self.data[\"document_metadata\"] = {\n",
        "                    \"filetype\": element[\"metadata\"][\"filetype\"],\n",
        "                    \"document_length\": \"\",\n",
        "                    \"file_directory\": element[\"metadata\"][\"file_directory\"],\n",
        "                    \"filename\": element[\"metadata\"][\"filename\"],\n",
        "                    \"page_layout\": {\n",
        "                            \"width\": element[\"metadata\"][\"coordinates\"][\"layout_width\"],\n",
        "                            \"height\": element[\"metadata\"][\"coordinates\"][\"layout_height\"],\n",
        "                            \"system\": element[\"metadata\"][\"coordinates\"][\"system\"]\n",
        "                        },\n",
        "                    \"last_timestamp\": [element[\"metadata\"][\"last_modified\"]],\n",
        "                    \"language\": element[\"metadata\"][\"languages\"]}\n",
        "            page_number = str(element[\"metadata\"][\"page_number\"])\n",
        "\n",
        "            if page_number not in self.data:\n",
        "                image_table_obj = ImageTableProcessing(page_number,self.image_path )\n",
        "                image_table_obj.set_image_map()\n",
        "                image_table_obj.set_table_map()\n",
        "\n",
        "                self.data[page_number] = {\n",
        "                    \"header\": [],\n",
        "                    \"title\": [],\n",
        "                    \"narrative_text\": [],\n",
        "                    \"list_item\": [],\n",
        "                    \"image_data\": {\"images\": image_table_obj.get_image_map(), \"figure_captions\": []},\n",
        "                    \"table\": image_table_obj.get_table_map(),\n",
        "                    \"formula\": [],\n",
        "                    \"footer\": [],\n",
        "                    \"unknown_element\": [],\n",
        "                    \"content_metadata\": {\n",
        "                        \"page_summary\": \"\",\n",
        "                        \"topic_continuation\": False,\n",
        "                        \"topics_detected\": {},\n",
        "                    }\n",
        "                }\n",
        "\n",
        "            self._add_element_to_page(page_number, element)\n",
        "\n",
        "    def _add_element_to_page(self, page_number, element):\n",
        "        element_type = element[\"type\"]\n",
        "        data_page = self.data[page_number]\n",
        "        element_text = self._remove_unicode(element[\"text\"])\n",
        "\n",
        "        if element_type in data_page:\n",
        "            data_page[element_type.lower()].append(element_text)\n",
        "        elif element_type == \"FigureCaption\":\n",
        "            data_page[\"image_data\"][\"figure_captions\"].append(element_text)\n",
        "        else:\n",
        "            data_page[\"unknown_element\"].append(element_text)\n",
        "\n",
        "    def process_captions_and_texts(self):\n",
        "        # Skipping 'document_metadata' key as it won't contain image_data\n",
        "        for page_number, value in self.data.items():\n",
        "            if page_number != \"document_metadata\":\n",
        "                self._process_figure_captions(page_number, value)\n",
        "                self._process_narrative_text(page_number, value)\n",
        "                self._process_unknown_element(page_number, value)\n",
        "\n",
        "    def _process_figure_captions(self, page_number, value):\n",
        "        figure_captions = [self._remove_unicode(fc) for fc in value[\"image_data\"][\"figure_captions\"]]\n",
        "        for figure_caption in figure_captions:\n",
        "            if figure_caption.lower().startswith(\"table\"):\n",
        "                self._assign_table_heading(page_number, figure_caption, value)\n",
        "            elif figure_caption.lower().startswith(\"figure\"):\n",
        "                self._assign_image_heading(page_number, figure_caption, value)\n",
        "\n",
        "    def _process_narrative_text(self, page_number, value):\n",
        "        narrative_texts = [self._remove_unicode(nt) for nt in value[\"narrative_text\"]]\n",
        "        for narrative_text in narrative_texts:\n",
        "            if narrative_text.lower().startswith(\"table\"):\n",
        "                self._assign_table_heading(page_number, narrative_text, value)\n",
        "            elif narrative_text.lower().startswith(\"figure\"):\n",
        "                self._assign_image_heading(page_number, narrative_text, value)\n",
        "\n",
        "    def _process_unknown_element(self, page_number, value):\n",
        "        unknown_elements = [self._remove_unicode(ue) for ue in value[\"unknown_element\"]]\n",
        "        for unknown_element in unknown_elements:\n",
        "            if unknown_element.lower().startswith(\"table\"):\n",
        "                self._assign_table_heading(page_number, unknown_element, value)\n",
        "            elif unknown_element.lower().startswith(\"figure\"):\n",
        "                self._assign_image_heading(page_number, unknown_element, value)\n",
        "\n",
        "    def _assign_table_heading(self, page_number, text, value):\n",
        "        text = self._remove_unicode(text)\n",
        "        table_number = text[len(\"table\") + 1]\n",
        "        if \":\" in text:\n",
        "            table_heading = text.split(\":\")[1].strip()\n",
        "            if table_number in value[\"table\"].get(page_number, {}):\n",
        "                value[\"table\"][page_number][table_number][\"table_heading\"] = table_heading\n",
        "            # Check if the text exists in the list before removing it\n",
        "            if text in value[\"image_data\"][\"figure_captions\"]:\n",
        "                value[\"image_data\"][\"figure_captions\"].remove(text)\n",
        "            if text in value[\"narrative_text\"]:\n",
        "                value[\"narrative_text\"].remove(text)\n",
        "            if text in value[\"unknown_element\"]:\n",
        "                value[\"unknown_element\"].remove(text)\n",
        "\n",
        "    def _assign_image_heading(self, page_number, text, value):\n",
        "        text = self._remove_unicode(text)\n",
        "        image_number = text[len(\"figure\") + 1]\n",
        "        if \":\" in text:\n",
        "            image_heading = text.split(\":\")[1].strip()\n",
        "            images_data = value[\"image_data\"][\"images\"].get(page_number, {})\n",
        "            if images_data and image_number in images_data:\n",
        "                images_data[image_number][\"image_heading\"] = image_heading\n",
        "            # Check if the text exists in the list before removing it\n",
        "            if text in value[\"image_data\"][\"figure_captions\"]:\n",
        "                value[\"image_data\"][\"figure_captions\"].remove(text)\n",
        "            if text in value[\"narrative_text\"]:\n",
        "                value[\"narrative_text\"].remove(text)\n",
        "            if text in value[\"unknown_element\"]:\n",
        "                value[\"unknown_element\"].remove(text)\n",
        "\n",
        "    def get_data(self):\n",
        "        self.data[\"document_metadata\"][\"document_length\"] = str(len(self.data))\n",
        "        return self.data"
      ]
    },
    {
      "cell_type": "code",
      "execution_count": null,
      "metadata": {
        "id": "HT_iPOLPYOYr"
      },
      "outputs": [],
      "source": [
        "\n",
        "processor = PDFDataProcessor(raw_pdf_elements,image_path)\n",
        "processor.process_elements()\n",
        "processor.process_captions_and_texts()\n",
        "final_data = processor.get_data()"
      ]
    },
    {
      "cell_type": "code",
      "execution_count": null,
      "metadata": {
        "id": "N-BvOilvjk1j"
      },
      "outputs": [],
      "source": [
        "!rm -rf *_structured_data.json"
      ]
    },
    {
      "cell_type": "code",
      "execution_count": null,
      "metadata": {
        "id": "JkykSsmn_nGG"
      },
      "outputs": [],
      "source": [
        "\n",
        "import json\n",
        "\n",
        "with open(f\"{file_path.split('.')[0]}_structured_data.json\", \"w\") as f:\n",
        "    json.dump(final_data, f, indent=4)\n"
      ]
    },
    {
      "cell_type": "code",
      "source": [
        "import json\n",
        "\n",
        "with open(f\"{file_path.split('.')[0]}_structured_data.json\", \"r\") as f:\n",
        "    data = json.load(f)"
      ],
      "metadata": {
        "id": "v8W6Mvh1kLnt"
      },
      "execution_count": null,
      "outputs": []
    },
    {
      "cell_type": "code",
      "execution_count": null,
      "metadata": {
        "id": "Fjz-j4Ek7yp0"
      },
      "outputs": [],
      "source": [
        "import re\n",
        "\n",
        "class TextChunker:\n",
        "    def __init__(self,data):\n",
        "      self.data = data\n",
        "      # Subheading pattern - Research paper\n",
        "      self.subheading_patterns = [\n",
        "            r'^\\d+(\\.\\d+)?\\s[A-Z][A-Z\\s\\-]+$',   # Matches \"2 BACKGROUND AND MOTIVATION\" or \"2.1 LLM AND ATTENTION OPERATION\"\n",
        "            r'^[A-Z][A-Z\\s\\-]{4,}$'               # Uppercase headings - \"DYNAMIC AND SPARSE ATTENTION\"\n",
        "        ]\n",
        "\n",
        "    def extract_topics(self,texts):\n",
        "      sub_heading_topics = {}\n",
        "      current_section = \"\"\n",
        "      combined_pattern = re.compile('|'.join(self.subheading_patterns), re.IGNORECASE)\n",
        "      for line in texts:\n",
        "        # Check if line matches a subheading\n",
        "        match = combined_pattern.match(line)\n",
        "        if match:\n",
        "          current_section = match.group(0)\n",
        "          sub_heading_topics[current_section] = []\n",
        "        else:\n",
        "          if current_section:\n",
        "            sub_heading_topics[current_section].append(line)\n",
        "      return sub_heading_topics\n",
        "\n",
        "    def chunk_texts(self,element_names):\n",
        "      for element_name in element_names:\n",
        "        for page_number in self.data.keys():\n",
        "          if page_number == \"document_metadata\":\n",
        "            continue\n",
        "          if len(self.data[page_number][element_name]):\n",
        "            self.data[page_number][element_name] = self.extract_topics(self.data[page_number][element_name])\n",
        "            print(f\"page : {page_number} segmenting for {element_name} part.....\")\n",
        "\n",
        "      return self.data"
      ]
    },
    {
      "cell_type": "code",
      "source": [
        "chunker = TextChunker(data)\n",
        "element_names = [\"narrative_text\",\"unknown_element\"]\n",
        "chunked_data = chunker.chunk_texts(element_names)\n"
      ],
      "metadata": {
        "id": "upUamPQLMsQp",
        "colab": {
          "base_uri": "https://localhost:8080/"
        },
        "outputId": "2c2f4ecc-4b23-40c0-94e6-25d19b463971"
      },
      "execution_count": null,
      "outputs": [
        {
          "output_type": "stream",
          "name": "stdout",
          "text": [
            "page : 1 segmenting for unknown_element part.....\n",
            "page : 2 segmenting for unknown_element part.....\n",
            "page : 3 segmenting for unknown_element part.....\n",
            "page : 4 segmenting for unknown_element part.....\n",
            "page : 5 segmenting for unknown_element part.....\n",
            "page : 6 segmenting for unknown_element part.....\n",
            "page : 7 segmenting for unknown_element part.....\n",
            "page : 8 segmenting for unknown_element part.....\n",
            "page : 9 segmenting for unknown_element part.....\n",
            "page : 10 segmenting for unknown_element part.....\n",
            "page : 11 segmenting for unknown_element part.....\n",
            "page : 12 segmenting for unknown_element part.....\n",
            "page : 13 segmenting for unknown_element part.....\n",
            "page : 14 segmenting for unknown_element part.....\n",
            "page : 15 segmenting for unknown_element part.....\n",
            "page : 16 segmenting for unknown_element part.....\n",
            "page : 17 segmenting for unknown_element part.....\n",
            "page : 18 segmenting for unknown_element part.....\n",
            "page : 19 segmenting for unknown_element part.....\n"
          ]
        }
      ]
    },
    {
      "cell_type": "code",
      "source": [
        "!rm -rf *_chunked_data.json"
      ],
      "metadata": {
        "id": "XuJaBaa8PQFa"
      },
      "execution_count": null,
      "outputs": []
    },
    {
      "cell_type": "code",
      "execution_count": null,
      "metadata": {
        "id": "xoEdAghohMvu"
      },
      "outputs": [],
      "source": [
        "import json\n",
        "\n",
        "with open(f\"{file_path.split('.')[0]}_chunked_data.json\", \"w\") as f:\n",
        "    json.dump(chunked_data, f, indent=4)\n"
      ]
    },
    {
      "cell_type": "code",
      "source": [
        "import json\n",
        "\n",
        "with open(f\"{file_path.split('.')[0]}_chunked_data.json\", \"r\") as f:\n",
        "    data = json.load(f)"
      ],
      "metadata": {
        "id": "D8qFnhjMkUla"
      },
      "execution_count": null,
      "outputs": []
    },
    {
      "cell_type": "code",
      "execution_count": null,
      "metadata": {
        "id": "4I6hxx-wblaF"
      },
      "outputs": [],
      "source": []
    },
    {
      "cell_type": "code",
      "execution_count": null,
      "metadata": {
        "id": "2OMOJ_ruITdw"
      },
      "outputs": [],
      "source": [
        "#"
      ]
    }
  ],
  "metadata": {
    "colab": {
      "provenance": []
    },
    "kernelspec": {
      "display_name": "Python 3",
      "name": "python3"
    },
    "language_info": {
      "name": "python"
    },
    "widgets": {
      "application/vnd.jupyter.widget-state+json": {
        "31fc34214eac4680b47940e54a7977e7": {
          "model_module": "@jupyter-widgets/controls",
          "model_name": "HBoxModel",
          "model_module_version": "1.5.0",
          "state": {
            "_dom_classes": [],
            "_model_module": "@jupyter-widgets/controls",
            "_model_module_version": "1.5.0",
            "_model_name": "HBoxModel",
            "_view_count": null,
            "_view_module": "@jupyter-widgets/controls",
            "_view_module_version": "1.5.0",
            "_view_name": "HBoxView",
            "box_style": "",
            "children": [
              "IPY_MODEL_6159247139e44b958912233ae1594539",
              "IPY_MODEL_b5e4fb154d2e4037afe660c06d954214",
              "IPY_MODEL_04a9e82f33fc456fb1c2960a2d428e62"
            ],
            "layout": "IPY_MODEL_843cb1b2fdb247ffb348fd490c700d2b"
          }
        },
        "6159247139e44b958912233ae1594539": {
          "model_module": "@jupyter-widgets/controls",
          "model_name": "HTMLModel",
          "model_module_version": "1.5.0",
          "state": {
            "_dom_classes": [],
            "_model_module": "@jupyter-widgets/controls",
            "_model_module_version": "1.5.0",
            "_model_name": "HTMLModel",
            "_view_count": null,
            "_view_module": "@jupyter-widgets/controls",
            "_view_module_version": "1.5.0",
            "_view_name": "HTMLView",
            "description": "",
            "description_tooltip": null,
            "layout": "IPY_MODEL_d4da396f4f184e89ae0fca883d19297f",
            "placeholder": "​",
            "style": "IPY_MODEL_86b2c7ac0bae48a2a073f0c5ce5cbcd0",
            "value": "yolox_l0.05.onnx: 100%"
          }
        },
        "b5e4fb154d2e4037afe660c06d954214": {
          "model_module": "@jupyter-widgets/controls",
          "model_name": "FloatProgressModel",
          "model_module_version": "1.5.0",
          "state": {
            "_dom_classes": [],
            "_model_module": "@jupyter-widgets/controls",
            "_model_module_version": "1.5.0",
            "_model_name": "FloatProgressModel",
            "_view_count": null,
            "_view_module": "@jupyter-widgets/controls",
            "_view_module_version": "1.5.0",
            "_view_name": "ProgressView",
            "bar_style": "success",
            "description": "",
            "description_tooltip": null,
            "layout": "IPY_MODEL_79419fd021ae42429b9ab025417b48aa",
            "max": 216625723,
            "min": 0,
            "orientation": "horizontal",
            "style": "IPY_MODEL_f8e6eb62ece541f7a3fa10ab5b0cacb8",
            "value": 216625723
          }
        },
        "04a9e82f33fc456fb1c2960a2d428e62": {
          "model_module": "@jupyter-widgets/controls",
          "model_name": "HTMLModel",
          "model_module_version": "1.5.0",
          "state": {
            "_dom_classes": [],
            "_model_module": "@jupyter-widgets/controls",
            "_model_module_version": "1.5.0",
            "_model_name": "HTMLModel",
            "_view_count": null,
            "_view_module": "@jupyter-widgets/controls",
            "_view_module_version": "1.5.0",
            "_view_name": "HTMLView",
            "description": "",
            "description_tooltip": null,
            "layout": "IPY_MODEL_e381513bb2e44470b914eac6ec7150dd",
            "placeholder": "​",
            "style": "IPY_MODEL_ae12ba75457d4f0aa25fa372d3741fbe",
            "value": " 217M/217M [00:01&lt;00:00, 192MB/s]"
          }
        },
        "843cb1b2fdb247ffb348fd490c700d2b": {
          "model_module": "@jupyter-widgets/base",
          "model_name": "LayoutModel",
          "model_module_version": "1.2.0",
          "state": {
            "_model_module": "@jupyter-widgets/base",
            "_model_module_version": "1.2.0",
            "_model_name": "LayoutModel",
            "_view_count": null,
            "_view_module": "@jupyter-widgets/base",
            "_view_module_version": "1.2.0",
            "_view_name": "LayoutView",
            "align_content": null,
            "align_items": null,
            "align_self": null,
            "border": null,
            "bottom": null,
            "display": null,
            "flex": null,
            "flex_flow": null,
            "grid_area": null,
            "grid_auto_columns": null,
            "grid_auto_flow": null,
            "grid_auto_rows": null,
            "grid_column": null,
            "grid_gap": null,
            "grid_row": null,
            "grid_template_areas": null,
            "grid_template_columns": null,
            "grid_template_rows": null,
            "height": null,
            "justify_content": null,
            "justify_items": null,
            "left": null,
            "margin": null,
            "max_height": null,
            "max_width": null,
            "min_height": null,
            "min_width": null,
            "object_fit": null,
            "object_position": null,
            "order": null,
            "overflow": null,
            "overflow_x": null,
            "overflow_y": null,
            "padding": null,
            "right": null,
            "top": null,
            "visibility": null,
            "width": null
          }
        },
        "d4da396f4f184e89ae0fca883d19297f": {
          "model_module": "@jupyter-widgets/base",
          "model_name": "LayoutModel",
          "model_module_version": "1.2.0",
          "state": {
            "_model_module": "@jupyter-widgets/base",
            "_model_module_version": "1.2.0",
            "_model_name": "LayoutModel",
            "_view_count": null,
            "_view_module": "@jupyter-widgets/base",
            "_view_module_version": "1.2.0",
            "_view_name": "LayoutView",
            "align_content": null,
            "align_items": null,
            "align_self": null,
            "border": null,
            "bottom": null,
            "display": null,
            "flex": null,
            "flex_flow": null,
            "grid_area": null,
            "grid_auto_columns": null,
            "grid_auto_flow": null,
            "grid_auto_rows": null,
            "grid_column": null,
            "grid_gap": null,
            "grid_row": null,
            "grid_template_areas": null,
            "grid_template_columns": null,
            "grid_template_rows": null,
            "height": null,
            "justify_content": null,
            "justify_items": null,
            "left": null,
            "margin": null,
            "max_height": null,
            "max_width": null,
            "min_height": null,
            "min_width": null,
            "object_fit": null,
            "object_position": null,
            "order": null,
            "overflow": null,
            "overflow_x": null,
            "overflow_y": null,
            "padding": null,
            "right": null,
            "top": null,
            "visibility": null,
            "width": null
          }
        },
        "86b2c7ac0bae48a2a073f0c5ce5cbcd0": {
          "model_module": "@jupyter-widgets/controls",
          "model_name": "DescriptionStyleModel",
          "model_module_version": "1.5.0",
          "state": {
            "_model_module": "@jupyter-widgets/controls",
            "_model_module_version": "1.5.0",
            "_model_name": "DescriptionStyleModel",
            "_view_count": null,
            "_view_module": "@jupyter-widgets/base",
            "_view_module_version": "1.2.0",
            "_view_name": "StyleView",
            "description_width": ""
          }
        },
        "79419fd021ae42429b9ab025417b48aa": {
          "model_module": "@jupyter-widgets/base",
          "model_name": "LayoutModel",
          "model_module_version": "1.2.0",
          "state": {
            "_model_module": "@jupyter-widgets/base",
            "_model_module_version": "1.2.0",
            "_model_name": "LayoutModel",
            "_view_count": null,
            "_view_module": "@jupyter-widgets/base",
            "_view_module_version": "1.2.0",
            "_view_name": "LayoutView",
            "align_content": null,
            "align_items": null,
            "align_self": null,
            "border": null,
            "bottom": null,
            "display": null,
            "flex": null,
            "flex_flow": null,
            "grid_area": null,
            "grid_auto_columns": null,
            "grid_auto_flow": null,
            "grid_auto_rows": null,
            "grid_column": null,
            "grid_gap": null,
            "grid_row": null,
            "grid_template_areas": null,
            "grid_template_columns": null,
            "grid_template_rows": null,
            "height": null,
            "justify_content": null,
            "justify_items": null,
            "left": null,
            "margin": null,
            "max_height": null,
            "max_width": null,
            "min_height": null,
            "min_width": null,
            "object_fit": null,
            "object_position": null,
            "order": null,
            "overflow": null,
            "overflow_x": null,
            "overflow_y": null,
            "padding": null,
            "right": null,
            "top": null,
            "visibility": null,
            "width": null
          }
        },
        "f8e6eb62ece541f7a3fa10ab5b0cacb8": {
          "model_module": "@jupyter-widgets/controls",
          "model_name": "ProgressStyleModel",
          "model_module_version": "1.5.0",
          "state": {
            "_model_module": "@jupyter-widgets/controls",
            "_model_module_version": "1.5.0",
            "_model_name": "ProgressStyleModel",
            "_view_count": null,
            "_view_module": "@jupyter-widgets/base",
            "_view_module_version": "1.2.0",
            "_view_name": "StyleView",
            "bar_color": null,
            "description_width": ""
          }
        },
        "e381513bb2e44470b914eac6ec7150dd": {
          "model_module": "@jupyter-widgets/base",
          "model_name": "LayoutModel",
          "model_module_version": "1.2.0",
          "state": {
            "_model_module": "@jupyter-widgets/base",
            "_model_module_version": "1.2.0",
            "_model_name": "LayoutModel",
            "_view_count": null,
            "_view_module": "@jupyter-widgets/base",
            "_view_module_version": "1.2.0",
            "_view_name": "LayoutView",
            "align_content": null,
            "align_items": null,
            "align_self": null,
            "border": null,
            "bottom": null,
            "display": null,
            "flex": null,
            "flex_flow": null,
            "grid_area": null,
            "grid_auto_columns": null,
            "grid_auto_flow": null,
            "grid_auto_rows": null,
            "grid_column": null,
            "grid_gap": null,
            "grid_row": null,
            "grid_template_areas": null,
            "grid_template_columns": null,
            "grid_template_rows": null,
            "height": null,
            "justify_content": null,
            "justify_items": null,
            "left": null,
            "margin": null,
            "max_height": null,
            "max_width": null,
            "min_height": null,
            "min_width": null,
            "object_fit": null,
            "object_position": null,
            "order": null,
            "overflow": null,
            "overflow_x": null,
            "overflow_y": null,
            "padding": null,
            "right": null,
            "top": null,
            "visibility": null,
            "width": null
          }
        },
        "ae12ba75457d4f0aa25fa372d3741fbe": {
          "model_module": "@jupyter-widgets/controls",
          "model_name": "DescriptionStyleModel",
          "model_module_version": "1.5.0",
          "state": {
            "_model_module": "@jupyter-widgets/controls",
            "_model_module_version": "1.5.0",
            "_model_name": "DescriptionStyleModel",
            "_view_count": null,
            "_view_module": "@jupyter-widgets/base",
            "_view_module_version": "1.2.0",
            "_view_name": "StyleView",
            "description_width": ""
          }
        }
      }
    }
  },
  "nbformat": 4,
  "nbformat_minor": 0
}