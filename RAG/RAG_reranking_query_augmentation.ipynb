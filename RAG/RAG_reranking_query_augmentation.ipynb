{
  "metadata": {
    "kernelspec": {
      "language": "python",
      "display_name": "Python 3",
      "name": "python3"
    },
    "language_info": {
      "name": "python",
      "version": "3.10.14",
      "mimetype": "text/x-python",
      "codemirror_mode": {
        "name": "ipython",
        "version": 3
      },
      "pygments_lexer": "ipython3",
      "nbconvert_exporter": "python",
      "file_extension": ".py"
    },
    "kaggle": {
      "accelerator": "none",
      "dataSources": [
        {
          "sourceId": 10218139,
          "sourceType": "datasetVersion",
          "datasetId": 6316341
        },
        {
          "sourceId": 10218143,
          "sourceType": "datasetVersion",
          "datasetId": 6316345
        }
      ],
      "dockerImageVersionId": 30804,
      "isInternetEnabled": true,
      "language": "python",
      "sourceType": "notebook",
      "isGpuEnabled": false
    },
    "colab": {
      "name": "RAG-test-1",
      "provenance": []
    }
  },
  "nbformat_minor": 0,
  "nbformat": 4,
  "cells": [
    {
      "source": [
        "# IMPORTANT: SOME KAGGLE DATA SOURCES ARE PRIVATE\n",
        "# RUN THIS CELL IN ORDER TO IMPORT YOUR KAGGLE DATA SOURCES.\n",
        "import kagglehub\n",
        "kagglehub.login()\n"
      ],
      "metadata": {
        "id": "r63fCtIFgU-E"
      },
      "cell_type": "code",
      "outputs": [],
      "execution_count": null
    },
    {
      "source": [
        "# IMPORTANT: RUN THIS CELL IN ORDER TO IMPORT YOUR KAGGLE DATA SOURCES,\n",
        "# THEN FEEL FREE TO DELETE THIS CELL.\n",
        "# NOTE: THIS NOTEBOOK ENVIRONMENT DIFFERS FROM KAGGLE'S PYTHON\n",
        "# ENVIRONMENT SO THERE MAY BE MISSING LIBRARIES USED BY YOUR\n",
        "# NOTEBOOK.\n",
        "\n",
        "tsr564_financial_news_path = kagglehub.dataset_download('tsr564/financial-news')\n",
        "tsr564_financial_records_path = kagglehub.dataset_download('tsr564/financial-records')\n",
        "\n",
        "print('Data source import complete.')\n"
      ],
      "metadata": {
        "id": "SXV9fkhxgU-I"
      },
      "cell_type": "code",
      "outputs": [],
      "execution_count": null
    },
    {
      "cell_type": "code",
      "source": [
        "!git clone https://github.com/Pritam3355/Datasets.git"
      ],
      "metadata": {
        "_uuid": "8f2839f25d086af736a60e9eeb907d3b93b6e0e5",
        "_cell_guid": "b1076dfc-b9ad-4769-8c92-a6c4dae69d19",
        "trusted": true,
        "execution": {
          "iopub.status.busy": "2024-12-16T12:57:48.628241Z",
          "iopub.execute_input": "2024-12-16T12:57:48.628722Z",
          "iopub.status.idle": "2024-12-16T12:57:49.896599Z",
          "shell.execute_reply.started": "2024-12-16T12:57:48.628642Z",
          "shell.execute_reply": "2024-12-16T12:57:49.894745Z"
        },
        "id": "f2pTE9CvgU-J",
        "outputId": "9034c919-a3dd-4e22-a020-5c509789dd2a"
      },
      "outputs": [
        {
          "name": "stdout",
          "text": "fatal: destination path 'Datasets' already exists and is not an empty directory.\n",
          "output_type": "stream"
        }
      ],
      "execution_count": null
    },
    {
      "cell_type": "markdown",
      "source": [
        "# Prepare DataSet\n",
        "\n",
        "    Fundamental_Data.csv : contains P&L, balance-sheet,cash-flow,quarterly results (numerical)\n",
        "    IndianFinancialNews.csv : contains news title & description (text)\n",
        "\n",
        "Since past news/events will have less impact on current year financial data , so we take the current year news & financial data to find relation or influencing factor"
      ],
      "metadata": {
        "id": "053xubJHgU-K"
      }
    },
    {
      "cell_type": "code",
      "source": [
        "import pandas as pd\n",
        "\n",
        "\n",
        "df1 = pd.read_csv(\"/kaggle/working/Datasets/Fundamental_Data.csv\")\n",
        "df1[\"year\"].unique()"
      ],
      "metadata": {
        "trusted": true,
        "execution": {
          "iopub.status.busy": "2024-12-16T14:38:05.564942Z",
          "iopub.execute_input": "2024-12-16T14:38:05.565318Z",
          "iopub.status.idle": "2024-12-16T14:38:05.596134Z",
          "shell.execute_reply.started": "2024-12-16T14:38:05.565288Z",
          "shell.execute_reply": "2024-12-16T14:38:05.595001Z"
        },
        "id": "-gEpnkfIgU-M",
        "outputId": "9dd91f64-bf6b-4749-f5ce-db26521005e2"
      },
      "outputs": [
        {
          "execution_count": 77,
          "output_type": "execute_result",
          "data": {
            "text/plain": "array([2013, 2014, 2015, 2016, 2017, 2018, 2019, 2020, 2021, 2022, 2023,\n       2024, 2012])"
          },
          "metadata": {}
        }
      ],
      "execution_count": null
    },
    {
      "cell_type": "markdown",
      "source": [
        "### Extract Year,Month from Date"
      ],
      "metadata": {
        "id": "rKNSih5rgU-N"
      }
    },
    {
      "cell_type": "code",
      "source": [
        "from datetime import datetime\n",
        "\n",
        "\n",
        "df2 = pd.read_csv(\"/kaggle/working/Datasets/IndianFinancialNews.csv\")\n",
        "df2.drop(\"Unnamed: 0\", axis=1, inplace=True)\n",
        "\n",
        "years = []\n",
        "months = []\n",
        "\n",
        "month_to_number = {\n",
        "    \"January\": 1,\n",
        "    \"February\": 2,\n",
        "    \"March\": 3,\n",
        "    \"April\": 4,\n",
        "    \"May\": 5,\n",
        "    \"June\": 6,\n",
        "    \"July\": 7,\n",
        "    \"August\": 8,\n",
        "    \"September\": 9,\n",
        "    \"October\": 10,\n",
        "    \"November\": 11,\n",
        "    \"December\": 12\n",
        "}\n",
        "\n",
        "for _, row in df2.iterrows():\n",
        "    date_str = row['Date']\n",
        "    date_list = date_str.split(\",\")\n",
        "    month_day = date_list[0].split(\" \")\n",
        "    month = month_day[0]\n",
        "    day = month_day[1]\n",
        "    year = int(date_list[1])\n",
        "    months.append(month_to_number[month])\n",
        "    years.append(year)\n",
        "\n",
        "df2[\"Year\"] = years\n",
        "df2[\"Month\"] = months\n",
        "df2.drop(\"Date\", axis=1, inplace=True)\n",
        "\n",
        "df2.head()"
      ],
      "metadata": {
        "trusted": true,
        "execution": {
          "iopub.status.busy": "2024-12-16T14:37:11.089118Z",
          "iopub.execute_input": "2024-12-16T14:37:11.089483Z",
          "iopub.status.idle": "2024-12-16T14:37:13.738898Z",
          "shell.execute_reply.started": "2024-12-16T14:37:11.089452Z",
          "shell.execute_reply": "2024-12-16T14:37:13.73757Z"
        },
        "id": "5PmCfCUggU-O",
        "outputId": "f339039d-65bd-41e5-88c6-8e56bed50e8e"
      },
      "outputs": [
        {
          "execution_count": 75,
          "output_type": "execute_result",
          "data": {
            "text/plain": "                                               Title  \\\n0  ATMs to become virtual bank branches, accept d...   \n1  IDFC First Bank seniors to forgo 65% of bonus ...   \n2  Huge scam in YES Bank for many years, says Enf...   \n3  Bank of Maharashtra sanctioned Rs 2,789 cr in ...   \n4  DCB Bank's profit before tax declines 37.6% to...   \n\n                                         Description  Year  Month  \n0  Close to 14.6 per cent (or 35,000) of the 240,...  2020      5  \n1  V Vaidyanathan, managing director and chief ex...  2020      5  \n2  Rana Kapoor's wife also charged with abetting ...  2020      5  \n3  The bank said it was now gearing up to extend ...  2020      5  \n4  Net profit for the financial year ended March ...  2020      5  ",
            "text/html": "<div>\n<style scoped>\n    .dataframe tbody tr th:only-of-type {\n        vertical-align: middle;\n    }\n\n    .dataframe tbody tr th {\n        vertical-align: top;\n    }\n\n    .dataframe thead th {\n        text-align: right;\n    }\n</style>\n<table border=\"1\" class=\"dataframe\">\n  <thead>\n    <tr style=\"text-align: right;\">\n      <th></th>\n      <th>Title</th>\n      <th>Description</th>\n      <th>Year</th>\n      <th>Month</th>\n    </tr>\n  </thead>\n  <tbody>\n    <tr>\n      <th>0</th>\n      <td>ATMs to become virtual bank branches, accept d...</td>\n      <td>Close to 14.6 per cent (or 35,000) of the 240,...</td>\n      <td>2020</td>\n      <td>5</td>\n    </tr>\n    <tr>\n      <th>1</th>\n      <td>IDFC First Bank seniors to forgo 65% of bonus ...</td>\n      <td>V Vaidyanathan, managing director and chief ex...</td>\n      <td>2020</td>\n      <td>5</td>\n    </tr>\n    <tr>\n      <th>2</th>\n      <td>Huge scam in YES Bank for many years, says Enf...</td>\n      <td>Rana Kapoor's wife also charged with abetting ...</td>\n      <td>2020</td>\n      <td>5</td>\n    </tr>\n    <tr>\n      <th>3</th>\n      <td>Bank of Maharashtra sanctioned Rs 2,789 cr in ...</td>\n      <td>The bank said it was now gearing up to extend ...</td>\n      <td>2020</td>\n      <td>5</td>\n    </tr>\n    <tr>\n      <th>4</th>\n      <td>DCB Bank's profit before tax declines 37.6% to...</td>\n      <td>Net profit for the financial year ended March ...</td>\n      <td>2020</td>\n      <td>5</td>\n    </tr>\n  </tbody>\n</table>\n</div>"
          },
          "metadata": {}
        }
      ],
      "execution_count": null
    },
    {
      "cell_type": "markdown",
      "source": [
        "### For computational constrain we only take 3 consecutive years in consideration - [2016, 2017, 2018]"
      ],
      "metadata": {
        "id": "THv4n2XAgU-P"
      }
    },
    {
      "cell_type": "code",
      "source": [
        "intersection_years = list(set(df2['Year'].unique()) & set(df1['year'].unique()))[:3]\n",
        "df1 = df1[df1['year'].isin(intersection_years)]\n",
        "df2 = df2[df2['Year'].isin(intersection_years)]"
      ],
      "metadata": {
        "trusted": true,
        "execution": {
          "iopub.status.busy": "2024-12-16T14:54:26.875686Z",
          "iopub.execute_input": "2024-12-16T14:54:26.876078Z",
          "iopub.status.idle": "2024-12-16T14:54:26.886718Z",
          "shell.execute_reply.started": "2024-12-16T14:54:26.876045Z",
          "shell.execute_reply": "2024-12-16T14:54:26.885725Z"
        },
        "id": "Vi_YxNh8gU-Q"
      },
      "outputs": [],
      "execution_count": null
    },
    {
      "cell_type": "code",
      "source": [
        "df1.shape,df2.shape,intersection_years"
      ],
      "metadata": {
        "trusted": true,
        "execution": {
          "iopub.status.busy": "2024-12-16T14:55:55.384707Z",
          "iopub.execute_input": "2024-12-16T14:55:55.385214Z",
          "iopub.status.idle": "2024-12-16T14:55:55.394582Z",
          "shell.execute_reply.started": "2024-12-16T14:55:55.385174Z",
          "shell.execute_reply": "2024-12-16T14:55:55.392881Z"
        },
        "id": "l5zcb0RxgU-R",
        "outputId": "7dbb1432-ae3d-4551-a9cf-abc7f5494fcd"
      },
      "outputs": [
        {
          "execution_count": 85,
          "output_type": "execute_result",
          "data": {
            "text/plain": "((4056, 6), (6432, 4), [2016, 2017, 2018])"
          },
          "metadata": {}
        }
      ],
      "execution_count": null
    },
    {
      "cell_type": "code",
      "source": [
        "df1.to_csv(\"financial_report.csv\",index=False)\n",
        "df2.to_csv(\"financial_news.csv\",index=False)"
      ],
      "metadata": {
        "trusted": true,
        "execution": {
          "iopub.status.busy": "2024-12-16T14:56:04.322639Z",
          "iopub.execute_input": "2024-12-16T14:56:04.323042Z",
          "iopub.status.idle": "2024-12-16T14:56:04.385977Z",
          "shell.execute_reply.started": "2024-12-16T14:56:04.323003Z",
          "shell.execute_reply": "2024-12-16T14:56:04.384919Z"
        },
        "id": "G28rCzrogU-S"
      },
      "outputs": [],
      "execution_count": null
    },
    {
      "cell_type": "code",
      "source": [
        "!pip install --q --upgrade langchain langchain-community  faiss-cpu langchain-core\n",
        "!pip install --q --upgrade  langchain-text-splitters rank_bm25\n",
        "!pip install -q sentence_transformers llama-index\n",
        "!pip install -q --upgrade together langchain-together"
      ],
      "metadata": {
        "trusted": true,
        "execution": {
          "iopub.status.busy": "2024-12-18T04:15:26.866367Z",
          "iopub.execute_input": "2024-12-18T04:15:26.866799Z",
          "iopub.status.idle": "2024-12-18T04:16:26.891465Z",
          "shell.execute_reply.started": "2024-12-18T04:15:26.866763Z",
          "shell.execute_reply": "2024-12-18T04:16:26.890109Z"
        },
        "id": "HcBFpgyZgU-S",
        "outputId": "84376fc2-5888-4a70-ab0c-680606bc4cc2"
      },
      "outputs": [
        {
          "name": "stdout",
          "text": "\u001b[31mERROR: pip's dependency resolver does not currently take into account all the packages that are installed. This behaviour is the source of the following dependency conflicts.\ngoogle-cloud-bigquery 2.34.4 requires packaging<22.0dev,>=14.3, but you have packaging 24.2 which is incompatible.\njupyterlab 4.3.1 requires jupyter-lsp>=2.0.0, but you have jupyter-lsp 1.5.1 which is incompatible.\njupyterlab-lsp 5.1.0 requires jupyter-lsp>=2.0.0, but you have jupyter-lsp 1.5.1 which is incompatible.\nkfp 2.5.0 requires google-cloud-storage<3,>=2.2.1, but you have google-cloud-storage 1.44.0 which is incompatible.\nkfp 2.5.0 requires requests-toolbelt<1,>=0.8.0, but you have requests-toolbelt 1.0.0 which is incompatible.\nlibpysal 4.9.2 requires shapely>=2.0.1, but you have shapely 1.8.5.post1 which is incompatible.\nmlxtend 0.23.3 requires scikit-learn>=1.3.1, but you have scikit-learn 1.2.2 which is incompatible.\nplotnine 0.14.3 requires matplotlib>=3.8.0, but you have matplotlib 3.7.5 which is incompatible.\ntensorflow 2.16.1 requires ml-dtypes~=0.3.1, but you have ml-dtypes 0.5.0 which is incompatible.\nthinc 8.3.2 requires numpy<2.1.0,>=2.0.0; python_version >= \"3.9\", but you have numpy 1.26.4 which is incompatible.\nydata-profiling 4.12.0 requires scipy<1.14,>=1.4.1, but you have scipy 1.14.1 which is incompatible.\u001b[0m\u001b[31m\n\u001b[0m\u001b[31mERROR: pip's dependency resolver does not currently take into account all the packages that are installed. This behaviour is the source of the following dependency conflicts.\npreprocessing 0.1.13 requires nltk==3.2.4, but you have nltk 3.9.1 which is incompatible.\u001b[0m\u001b[31m\n\u001b[0m\u001b[31mERROR: pip's dependency resolver does not currently take into account all the packages that are installed. This behaviour is the source of the following dependency conflicts.\nibis-framework 7.1.0 requires pyarrow<15,>=2, but you have pyarrow 18.1.0 which is incompatible.\ntensorflow 2.16.1 requires ml-dtypes~=0.3.1, but you have ml-dtypes 0.5.0 which is incompatible.\u001b[0m\u001b[31m\n\u001b[0m",
          "output_type": "stream"
        }
      ],
      "execution_count": null
    },
    {
      "cell_type": "code",
      "source": [
        "import os\n",
        "\n",
        "# from google.colab import userdata\n",
        "\n",
        "os.environ[\"LANGCHAIN_TRACING_V2\"] = \"true\"\n",
        "os.environ[\"LANGCHAIN_ENDPOINT\"] = \"https://api.smith.langchain.com\"\n",
        "# os.environ[\"LANGCHAIN_API_KEY\"] = userdata.get('LANGCHAIN_API_KEY')\n",
        "# os.environ[\"HUGGINGFACE_API_KEY\"] = userdata.get('HUGGINGFACE_API_KEY')\n",
        "together_api_key = \"\""
      ],
      "metadata": {
        "trusted": true,
        "execution": {
          "iopub.status.busy": "2024-12-18T04:18:04.367052Z",
          "iopub.execute_input": "2024-12-18T04:18:04.36753Z",
          "iopub.status.idle": "2024-12-18T04:18:04.374327Z",
          "shell.execute_reply.started": "2024-12-18T04:18:04.367492Z",
          "shell.execute_reply": "2024-12-18T04:18:04.373076Z"
        },
        "id": "x7-gIrIMgU-T"
      },
      "outputs": [],
      "execution_count": null
    },
    {
      "cell_type": "markdown",
      "source": [
        "### Create Emebedding & store them on FAISS VectorDB"
      ],
      "metadata": {
        "id": "vDvUr_5JgU-U"
      }
    },
    {
      "cell_type": "code",
      "source": [
        "from langchain_community.document_loaders.csv_loader import CSVLoader\n",
        "from langchain.embeddings import HuggingFaceEmbeddings\n",
        "from langchain.vectorstores import FAISS\n",
        "from tqdm import tqdm\n",
        "\n",
        "loader1 = CSVLoader(file_path='/kaggle/working/financial_report.csv')\n",
        "data1 = loader1.load()\n",
        "\n",
        "hfembeddings1 = HuggingFaceEmbeddings(model_name='thenlper/gte-large',model_kwargs={'device': 'cpu'})\n",
        "\n",
        "db1 = FAISS.from_documents(data1, hfembeddings1)\n",
        "\n",
        "with tqdm(total=len(data1), desc=\"save FAISS Index\") as pbar:\n",
        "    db1.save_local('financial-records')\n",
        "    pbar.update(len(data1))"
      ],
      "metadata": {
        "trusted": true,
        "execution": {
          "iopub.status.busy": "2024-12-16T14:57:01.84857Z",
          "iopub.execute_input": "2024-12-16T14:57:01.849424Z",
          "iopub.status.idle": "2024-12-16T15:11:21.862971Z",
          "shell.execute_reply.started": "2024-12-16T14:57:01.849379Z",
          "shell.execute_reply": "2024-12-16T15:11:21.861724Z"
        },
        "id": "2sBIEoRDgU-U",
        "outputId": "68298d22-e778-4cdc-d380-89a1ff03dd25",
        "colab": {
          "referenced_widgets": [
            "898fb92d2e4144959a9a2ea736d6e958",
            "9f8aedd83c434a3a93fcb699bfba70aa",
            "687face740ed4f62bea771bb09ea6877",
            "6357e5e1d487455d9932a22823c353fd",
            "afb2b50275cd47c7876163ed844aa3e0",
            "ac4de782df7b449daf6747127c47d393",
            "5a1c5ad180fb4bb2bb341852e7e53438",
            "f899981d4ac345008dc3dfd7cba8c15c",
            "fd520f7f62dc4ff2bbffd9e7860c9f5c",
            "ce7c2281c59a4813ba950e7426f017b9"
          ]
        }
      },
      "outputs": [
        {
          "output_type": "display_data",
          "data": {
            "text/plain": "modules.json:   0%|          | 0.00/385 [00:00<?, ?B/s]",
            "application/vnd.jupyter.widget-view+json": {
              "version_major": 2,
              "version_minor": 0,
              "model_id": "898fb92d2e4144959a9a2ea736d6e958"
            }
          },
          "metadata": {}
        },
        {
          "output_type": "display_data",
          "data": {
            "text/plain": "README.md:   0%|          | 0.00/67.9k [00:00<?, ?B/s]",
            "application/vnd.jupyter.widget-view+json": {
              "version_major": 2,
              "version_minor": 0,
              "model_id": "9f8aedd83c434a3a93fcb699bfba70aa"
            }
          },
          "metadata": {}
        },
        {
          "output_type": "display_data",
          "data": {
            "text/plain": "sentence_bert_config.json:   0%|          | 0.00/57.0 [00:00<?, ?B/s]",
            "application/vnd.jupyter.widget-view+json": {
              "version_major": 2,
              "version_minor": 0,
              "model_id": "687face740ed4f62bea771bb09ea6877"
            }
          },
          "metadata": {}
        },
        {
          "output_type": "display_data",
          "data": {
            "text/plain": "config.json:   0%|          | 0.00/619 [00:00<?, ?B/s]",
            "application/vnd.jupyter.widget-view+json": {
              "version_major": 2,
              "version_minor": 0,
              "model_id": "6357e5e1d487455d9932a22823c353fd"
            }
          },
          "metadata": {}
        },
        {
          "output_type": "display_data",
          "data": {
            "text/plain": "model.safetensors:   0%|          | 0.00/670M [00:00<?, ?B/s]",
            "application/vnd.jupyter.widget-view+json": {
              "version_major": 2,
              "version_minor": 0,
              "model_id": "afb2b50275cd47c7876163ed844aa3e0"
            }
          },
          "metadata": {}
        },
        {
          "output_type": "display_data",
          "data": {
            "text/plain": "tokenizer_config.json:   0%|          | 0.00/342 [00:00<?, ?B/s]",
            "application/vnd.jupyter.widget-view+json": {
              "version_major": 2,
              "version_minor": 0,
              "model_id": "ac4de782df7b449daf6747127c47d393"
            }
          },
          "metadata": {}
        },
        {
          "output_type": "display_data",
          "data": {
            "text/plain": "vocab.txt:   0%|          | 0.00/232k [00:00<?, ?B/s]",
            "application/vnd.jupyter.widget-view+json": {
              "version_major": 2,
              "version_minor": 0,
              "model_id": "5a1c5ad180fb4bb2bb341852e7e53438"
            }
          },
          "metadata": {}
        },
        {
          "output_type": "display_data",
          "data": {
            "text/plain": "tokenizer.json:   0%|          | 0.00/712k [00:00<?, ?B/s]",
            "application/vnd.jupyter.widget-view+json": {
              "version_major": 2,
              "version_minor": 0,
              "model_id": "f899981d4ac345008dc3dfd7cba8c15c"
            }
          },
          "metadata": {}
        },
        {
          "output_type": "display_data",
          "data": {
            "text/plain": "special_tokens_map.json:   0%|          | 0.00/125 [00:00<?, ?B/s]",
            "application/vnd.jupyter.widget-view+json": {
              "version_major": 2,
              "version_minor": 0,
              "model_id": "fd520f7f62dc4ff2bbffd9e7860c9f5c"
            }
          },
          "metadata": {}
        },
        {
          "output_type": "display_data",
          "data": {
            "text/plain": "1_Pooling/config.json:   0%|          | 0.00/191 [00:00<?, ?B/s]",
            "application/vnd.jupyter.widget-view+json": {
              "version_major": 2,
              "version_minor": 0,
              "model_id": "ce7c2281c59a4813ba950e7426f017b9"
            }
          },
          "metadata": {}
        },
        {
          "name": "stderr",
          "text": "Saving FAISS Index: 100%|██████████| 4056/4056 [00:00<00:00, 115088.91it/s]\n",
          "output_type": "stream"
        }
      ],
      "execution_count": null
    },
    {
      "cell_type": "code",
      "source": [
        "from langchain.text_splitter import RecursiveCharacterTextSplitter\n",
        "\n",
        "loader2 = CSVLoader(file_path='/kaggle/working/financial_news.csv')\n",
        "data2 = loader.load()\n",
        "hfembeddings2 = HuggingFaceEmbeddings(model_name=\"BAAI/bge-base-en-v1.5\", model_kwargs={'device': 'cpu'})\n",
        "\n",
        "txt_splitter = RecursiveCharacterTextSplitter(chunk_size=500,chunk_overlap=200)\n",
        "\n",
        "inp_txt = txt_splitter.split_documents(data2)\n",
        "\n",
        "db2 = FAISS.from_documents(inp_txt, hfembeddings2)\n",
        "\n",
        "with tqdm(total=len(data2), desc=\"save FAISS Index\") as pbar:\n",
        "    db2.save_local('financial-news')\n",
        "    pbar.update(len(data2))"
      ],
      "metadata": {
        "trusted": true,
        "execution": {
          "iopub.status.busy": "2024-12-16T15:11:21.864955Z",
          "iopub.execute_input": "2024-12-16T15:11:21.865342Z",
          "iopub.status.idle": "2024-12-16T15:21:33.971926Z",
          "shell.execute_reply.started": "2024-12-16T15:11:21.865307Z",
          "shell.execute_reply": "2024-12-16T15:21:33.970642Z"
        },
        "id": "AWFQGOmogU-V",
        "outputId": "d1339733-f245-4d82-d19a-bb516ed30947"
      },
      "outputs": [
        {
          "name": "stderr",
          "text": "Saving FAISS Index: 100%|██████████| 6432/6432 [00:00<00:00, 130716.98it/s]\n",
          "output_type": "stream"
        }
      ],
      "execution_count": null
    },
    {
      "cell_type": "markdown",
      "source": [
        "### Creating Ensembel retriver\n",
        "\n",
        "**BM25 (Best Match 25) algorithm**: a ranking function used by search engines to determine the relevance of documents to a search query\n",
        "\n",
        "**Embedding model** : Here for numerical type data we're using ***thenlper/gte-large*** model and for text type data ***BAAI/bge-base-en-v1.5***"
      ],
      "metadata": {
        "id": "pzmgW3dvgU-V"
      }
    },
    {
      "cell_type": "code",
      "source": [
        "from langchain.retrievers import EnsembleRetriever\n",
        "from langchain_community.retrievers import BM25Retriever\n",
        "\n",
        "faiss_retriver_1 = db1.as_retriever(search_kwargs={'k': 1})\n",
        "faiss_retriever_2 = db2.as_retriever(search_kwargs={'k': 2})\n",
        "bm25_retriever = BM25Retriever.from_documents(inp_txt)\n",
        "\n",
        "# create ensemble retriever (FAISS + BM25)\n",
        "ensemble_retriever = EnsembleRetriever(retrievers=[faiss_retriver_1,faiss_retriever_2, bm25_retriever],\n",
        "                                       weights=[0.35,0.3, 0.35])\n",
        "\n"
      ],
      "metadata": {
        "trusted": true,
        "execution": {
          "iopub.status.busy": "2024-12-16T15:52:17.055703Z",
          "iopub.execute_input": "2024-12-16T15:52:17.056224Z",
          "iopub.status.idle": "2024-12-16T15:52:17.276431Z",
          "shell.execute_reply.started": "2024-12-16T15:52:17.056173Z",
          "shell.execute_reply": "2024-12-16T15:52:17.274921Z"
        },
        "id": "PUaNCrg9gU-W"
      },
      "outputs": [],
      "execution_count": null
    },
    {
      "cell_type": "markdown",
      "source": [
        "## Question-1"
      ],
      "metadata": {
        "id": "HMSbt5ljgU-W"
      }
    },
    {
      "cell_type": "code",
      "source": [
        "query = \"Is it good idea to buy HDFC at the end of September, 2018?\""
      ],
      "metadata": {
        "trusted": true,
        "execution": {
          "iopub.status.busy": "2024-12-18T04:21:54.345564Z",
          "iopub.execute_input": "2024-12-18T04:21:54.346131Z",
          "iopub.status.idle": "2024-12-18T04:21:54.352582Z",
          "shell.execute_reply.started": "2024-12-18T04:21:54.346061Z",
          "shell.execute_reply": "2024-12-18T04:21:54.351266Z"
        },
        "id": "zrlvup9VgU-W"
      },
      "outputs": [],
      "execution_count": null
    },
    {
      "cell_type": "markdown",
      "source": [
        "### Here we load pre-computed FAISS Index\n",
        "\n",
        "Since we would like to consider every piece of data relevant to our question - no need to rank them"
      ],
      "metadata": {
        "id": "cV_YdrUtgU-W"
      }
    },
    {
      "cell_type": "code",
      "source": [
        "\n",
        "from langchain_community.vectorstores import FAISS\n",
        "from langchain.embeddings import HuggingFaceEmbeddings\n",
        "from langchain.retrievers import EnsembleRetriever\n",
        "\n",
        "hfembeddings_1 = HuggingFaceEmbeddings(model_name='thenlper/gte-large',model_kwargs={'device': 'cpu'})\n",
        "hfembeddings_2 = HuggingFaceEmbeddings(model_name=\"BAAI/bge-base-en-v1.5\", model_kwargs={'device': 'cpu'})\n",
        "\n",
        "db1 = FAISS.load_local(\"/kaggle/input/financial-records\", hfembeddings_1, allow_dangerous_deserialization=True)\n",
        "\n",
        "db2 = FAISS.load_local(\"/kaggle/input/financial-news\", hfembeddings_2, allow_dangerous_deserialization=True)\n",
        "\n",
        "faiss_retriver_1 = db1.as_retriever(\n",
        "    search_type=\"similarity\",\n",
        "    search_kwargs={\n",
        "        'k': 5,\n",
        "        'score_threshold': 0.8,\n",
        "        'fetch_k': 10\n",
        "    }\n",
        ")\n",
        "faiss_retriever_2 = db2.as_retriever(\n",
        "    search_type=\"mmr\",  # max marginal relevance - diversify results\n",
        "    search_kwargs={\n",
        "        'k': 5,  # top 5 docs\n",
        "        'lambda_mult': 0.5,  # diversity vs relevance (0 = max diversity, 1 = max relevance)\n",
        "        'fetch_k': 15,  # fetch more candidates before using mmr\n",
        "    }\n",
        ")\n",
        "\n",
        "ensemble_retriever = EnsembleRetriever(retrievers=[faiss_retriver_1,faiss_retriever_2], weights=[0.55,0.45])\n",
        "\n"
      ],
      "metadata": {
        "trusted": true,
        "execution": {
          "iopub.status.busy": "2024-12-18T04:28:32.429956Z",
          "iopub.execute_input": "2024-12-18T04:28:32.431088Z",
          "iopub.status.idle": "2024-12-18T04:28:35.827623Z",
          "shell.execute_reply.started": "2024-12-18T04:28:32.431045Z",
          "shell.execute_reply": "2024-12-18T04:28:35.82652Z"
        },
        "id": "0ikZr_gEgU-W"
      },
      "outputs": [],
      "execution_count": null
    },
    {
      "cell_type": "markdown",
      "source": [
        "### Relevant context"
      ],
      "metadata": {
        "id": "38FUyF7vgU-W"
      }
    },
    {
      "cell_type": "code",
      "source": [
        "contexts = ensemble_retriever.invoke(query)\n",
        "context = []\n",
        "for ctx in contexts:\n",
        "    if ctx.page_content.startswith(\"category: \"):\n",
        "        context.append(ctx.page_content)\n",
        "    else:\n",
        "        ctx = \"category: News\"+'\\n'+ctx.page_content\n",
        "        context.append(ctx)\n",
        "\n",
        "\n",
        "for ctx in context:\n",
        "    print(ctx,type(ctx))\n",
        "    print(\"=\"*100)"
      ],
      "metadata": {
        "trusted": true,
        "execution": {
          "iopub.status.busy": "2024-12-18T04:55:55.14267Z",
          "iopub.execute_input": "2024-12-18T04:55:55.143073Z",
          "iopub.status.idle": "2024-12-18T04:55:55.648004Z",
          "shell.execute_reply.started": "2024-12-18T04:55:55.143036Z",
          "shell.execute_reply": "2024-12-18T04:55:55.646852Z"
        },
        "id": "Q27ads-7gU-X",
        "outputId": "d3abd6c2-85b4-4429-f4fb-ead5864bbe08"
      },
      "outputs": [
        {
          "name": "stdout",
          "text": "category: Reserves\nreport_type: balance-sheet\nstock_symbol: HDFCBANK\nyear: 2016\nmonth: 3\nvalue_type: 73798.0 <class 'str'>\n====================================================================================================\ncategory: Reserves\nreport_type: balance-sheet\nstock_symbol: HDFCLIFE\nyear: 2016\nmonth: 3\nvalue_type: 1108.0 <class 'str'>\n====================================================================================================\ncategory: Dividend Payout %\nreport_type: profit-loss\nstock_symbol: HDFCBANK\nyear: 2016\nmonth: 3\nvalue_type: 0.19 <class 'str'>\n====================================================================================================\ncategory: Equity Capital\nreport_type: balance-sheet\nstock_symbol: HDFCBANK\nyear: 2016\nmonth: 3\nvalue_type: 506.0 <class 'str'>\n====================================================================================================\ncategory: Investments\nreport_type: balance-sheet\nstock_symbol: HDFCLIFE\nyear: 2016\nmonth: 3\nvalue_type: 74144.0 <class 'str'>\n====================================================================================================\ncategory: News\nTitle: HDFC to list subsidiaries at opportune time, says chairman Deepak Parekh\nDescription: HDFC has various subsidiaries which can be listed\nYear: 2017\nMonth: 6 <class 'str'>\n====================================================================================================\ncategory: News\nTitle: HDFC Bank raises fixed deposit interest rates by up to 0.6% from today\nDescription: The deposit of maturity 6-9 months would earn 6.75 per cent, 40 basis points higher than previous rate\nYear: 2018\nMonth: 8 <class 'str'>\n====================================================================================================\ncategory: News\nTitle: HDFC Bank to focus on digital platform for sustained growth\nDescription: The bank is well positioned to continue to grow faster than the banking sector both in retail and wholesale segments, HDFC Bank ...\nYear: 2016\nMonth: 7 <class 'str'>\n====================================================================================================\ncategory: News\nTitle: HDFC completes 9% stake sale in HDFC Life to JV partner\nDescription: In August last year, HDFC had said it will sell 9% stake in HDFC Life to Standard Life for a little over Rs 1,700 crore\nYear: 2016\nMonth: 4 <class 'str'>\n====================================================================================================\ncategory: News\nTitle: HDFC Bank expects double-digit loan growth in FY19 on credit expansion\nDescription: After clocking just under 10% growth for almost a year, credit expansion fell to under 5% starting November 2016\nYear: 2017\nMonth: 12 <class 'str'>\n====================================================================================================\n",
          "output_type": "stream"
        }
      ],
      "execution_count": null
    },
    {
      "cell_type": "code",
      "source": [
        "\n",
        "\n",
        "from operator import itemgetter\n",
        "\n",
        "from langchain_core.prompts import ChatPromptTemplate\n",
        "from langchain_core.output_parsers import StrOutputParser\n",
        "from langchain_core.runnables import RunnableLambda, RunnablePassthrough\n",
        "from langchain_community.llms import Together\n",
        "\n",
        "\n",
        "\n",
        "model = Together(\n",
        "    model=\"mistralai/Mixtral-8x7B-Instruct-v0.1\",\n",
        "    temperature=0.7,\n",
        "    max_tokens=128,\n",
        "    top_k=50,\n",
        "    together_api_key=together_api_key\n",
        ")\n",
        "\n",
        "\n",
        "template = \"\"\"<s>[INST] Answer the question in a simple sentence based on following context, use the timeline data to aggregate financial report and news:\n",
        "{context}\n",
        "\n",
        "Question: {question} [/INST]\n",
        "\"\"\"\n",
        "prompt = ChatPromptTemplate.from_template(template)\n",
        "\n",
        "context_combined = \"\\n\".join(context)\n",
        "\n",
        "chain = (\n",
        "    {\"context\": RunnableLambda(lambda _: context_combined), \"question\": RunnablePassthrough()}\n",
        "    | prompt\n",
        "    | model\n",
        "    | StrOutputParser()\n",
        ")\n"
      ],
      "metadata": {
        "trusted": true,
        "execution": {
          "iopub.status.busy": "2024-12-18T04:56:03.51843Z",
          "iopub.execute_input": "2024-12-18T04:56:03.5188Z",
          "iopub.status.idle": "2024-12-18T04:56:03.526291Z",
          "shell.execute_reply.started": "2024-12-18T04:56:03.518769Z",
          "shell.execute_reply": "2024-12-18T04:56:03.525161Z"
        },
        "id": "ZWulUCnZgU-X"
      },
      "outputs": [],
      "execution_count": null
    },
    {
      "cell_type": "code",
      "source": [
        "query = \"Should I hold my position on HDFC at the end of November, 2018?\"\n",
        "output = chain.invoke(query)\n",
        "\n",
        "print(output)"
      ],
      "metadata": {
        "trusted": true,
        "execution": {
          "iopub.status.busy": "2024-12-18T05:07:59.524749Z",
          "iopub.execute_input": "2024-12-18T05:07:59.525346Z",
          "iopub.status.idle": "2024-12-18T05:08:00.504708Z",
          "shell.execute_reply.started": "2024-12-18T05:07:59.525293Z",
          "shell.execute_reply": "2024-12-18T05:08:00.503719Z"
        },
        "id": "vEbInM8cgU-X",
        "outputId": "94000837-4bf2-49cb-ce54-c73518314ba8"
      },
      "outputs": [
        {
          "name": "stdout",
          "text": "\nBased on the provided information, the decision to hold a position in HDFC should not be made solely based on the financial report and news from 2016 and 2017. However, it is noted that HDFC has been actively managing its subsidiaries and focusing on growth, which could be positive indicators. It is recommended to consider more recent financial reports and news, as well as other factors, when making investment decisions.\n",
          "output_type": "stream"
        }
      ],
      "execution_count": null
    },
    {
      "cell_type": "code",
      "source": [
        "# !pip install -q ctransformers"
      ],
      "metadata": {
        "trusted": true,
        "execution": {
          "iopub.status.busy": "2024-12-16T16:13:18.468405Z",
          "iopub.execute_input": "2024-12-16T16:13:18.469971Z",
          "iopub.status.idle": "2024-12-16T16:13:31.297335Z",
          "shell.execute_reply.started": "2024-12-16T16:13:18.469909Z",
          "shell.execute_reply": "2024-12-16T16:13:31.295556Z"
        },
        "id": "Lhf5QfXhgU-X",
        "outputId": "de155d3e-343b-4b14-9969-10f67345b8b3"
      },
      "outputs": [
        {
          "name": "stderr",
          "text": "huggingface/tokenizers: The current process just got forked, after parallelism has already been used. Disabling parallelism to avoid deadlocks...\nTo disable this warning, you can either:\n\t- Avoid using `tokenizers` before the fork if possible\n\t- Explicitly set the environment variable TOKENIZERS_PARALLELISM=(true | false)\n",
          "output_type": "stream"
        }
      ],
      "execution_count": null
    },
    {
      "cell_type": "code",
      "source": [
        "\n",
        "# from huggingface_hub import hf_hub_download\n",
        "# from langchain.llms import CTransformers\n",
        "# import os\n",
        "\n",
        "# model_id = \"TheBloke/mistral-7B-OpenOrca-GGUF\"\n",
        "# model_filename = \"mistral-7b-openorca.Q8_0.gguf\"\n",
        "\n",
        "# # Download the model file to a temporary location\n",
        "# model_path = hf_hub_download(repo_id=model_id, filename=model_filename)\n",
        "\n",
        "# # Now load the model using CTransformers\n",
        "# llm = CTransformers(\n",
        "#     model=model_path,  # Path to the downloaded model file\n",
        "#     model_type=\"llama\",  # Specify the correct model type, e.g., \"llama\"\n",
        "#     max_new_tokens=512,\n",
        "#     temperature=0.3\n",
        "# )\n",
        "\n",
        "# # Test the LLM with a prompt\n",
        "# output = llm(\"What is the capital of France?\")\n",
        "# print(output)\n",
        "\n"
      ],
      "metadata": {
        "trusted": true,
        "execution": {
          "iopub.status.busy": "2024-12-18T04:14:01.638184Z",
          "iopub.execute_input": "2024-12-18T04:14:01.63872Z",
          "iopub.status.idle": "2024-12-18T04:14:01.66768Z",
          "shell.execute_reply.started": "2024-12-18T04:14:01.638663Z",
          "shell.execute_reply": "2024-12-18T04:14:01.666544Z"
        },
        "id": "rHEWqDsEgU-Y"
      },
      "outputs": [],
      "execution_count": null
    },
    {
      "cell_type": "markdown",
      "source": [
        "### create augmented query of the same question"
      ],
      "metadata": {
        "id": "46U7Wdc-gU-Y"
      }
    },
    {
      "cell_type": "code",
      "source": [
        "from langchain.schema.output_parser import StrOutputParser\n",
        "from langchain.prompts import PromptTemplate,ChatPromptTemplate\n",
        "\n",
        "def query_rewrite(question,context):\n",
        "\n",
        "    context_combined = \"\\n\".join(context)\n",
        "    template = \"\"\"<s>[INST] Create 5 similar questions(no preamble) based on the provided Question sample and provided context,follow the current timeline(year,month):\n",
        "    {context}\n",
        "\n",
        "    Question: {question} [/INST]\n",
        "    \"\"\"\n",
        "\n",
        "    prompt = ChatPromptTemplate.from_template(template)\n",
        "    chain =  prompt| model| StrOutputParser()\n",
        "\n",
        "    result = chain.invoke({\"question\" : question,\"context\": context_combined})\n",
        "    return result"
      ],
      "metadata": {
        "trusted": true,
        "execution": {
          "iopub.status.busy": "2024-12-18T06:01:08.668964Z",
          "iopub.execute_input": "2024-12-18T06:01:08.669374Z",
          "iopub.status.idle": "2024-12-18T06:01:08.676547Z",
          "shell.execute_reply.started": "2024-12-18T06:01:08.669343Z",
          "shell.execute_reply": "2024-12-18T06:01:08.6752Z"
        },
        "id": "6L6sBNCSgU-Y"
      },
      "outputs": [],
      "execution_count": null
    },
    {
      "cell_type": "code",
      "source": [
        "query = \"Should I hold my position on HDFC at the end of November, 2018?\"\n",
        "augmented_queries = query_rewrite(query,context)\n",
        "augmented_queries = augmented_queries.strip().split(\"\\n\")\n",
        "augmented_queries = [s[s.find('.')+2:] if s.startswith('  ') else s for s in augmented_queries[1:]]\n",
        "augmented_queries"
      ],
      "metadata": {
        "trusted": true,
        "execution": {
          "iopub.status.busy": "2024-12-18T06:01:18.37039Z",
          "iopub.execute_input": "2024-12-18T06:01:18.371523Z",
          "iopub.status.idle": "2024-12-18T06:01:19.703832Z",
          "shell.execute_reply.started": "2024-12-18T06:01:18.371483Z",
          "shell.execute_reply": "2024-12-18T06:01:19.70268Z"
        },
        "id": "9bobt3xXgU-Y",
        "outputId": "6fcfcf39-1d2e-4d48-8d6b-18cb6fc8e89b"
      },
      "outputs": [
        {
          "execution_count": 78,
          "output_type": "execute_result",
          "data": {
            "text/plain": "['Given the recent increase in fixed deposit interest rates, should I consider buying HDFC stocks in June, 2017?',\n \"Considering HDFC's focus on digital growth in August 2018, is it a good idea to invest in the bank?\",\n \"With HDFC Life stake sale completed in July 2016, should investors anticipate any changes in HDFC's share price?\",\n 'After HDFC']"
          },
          "metadata": {}
        }
      ],
      "execution_count": null
    },
    {
      "cell_type": "markdown",
      "source": [
        "### get relevant context for the augmented querirs\n",
        "\n",
        "Since augmented query can cover larger context - we will ingest this larger context data"
      ],
      "metadata": {
        "id": "_BOdHzHAgU-Y"
      }
    },
    {
      "cell_type": "code",
      "source": [
        "docs = [ensemble_retriever.get_relevant_documents(query) for query in aug_queries]\n",
        "\n",
        "unique_contents = set()\n",
        "unique_docs = []\n",
        "for sublist in docs:\n",
        "    for doc in sublist:\n",
        "        if doc.page_content not in unique_contents:\n",
        "            unique_docs.append(doc)\n",
        "            unique_contents.add(doc.page_content)\n",
        "unique_contents = list(unique_contents)"
      ],
      "metadata": {
        "trusted": true,
        "execution": {
          "iopub.status.busy": "2024-12-18T06:02:03.512935Z",
          "iopub.execute_input": "2024-12-18T06:02:03.513326Z",
          "iopub.status.idle": "2024-12-18T06:02:05.683312Z",
          "shell.execute_reply.started": "2024-12-18T06:02:03.513292Z",
          "shell.execute_reply": "2024-12-18T06:02:05.682393Z"
        },
        "id": "6j9MpPyRgU-Z"
      },
      "outputs": [],
      "execution_count": null
    },
    {
      "cell_type": "markdown",
      "source": [
        "#### get a relevance score of [orginal query,retrived context] pair using Cross-Encoder\n",
        "\n",
        "Cross-Encoder is better than Bi-Encoder since it can take all the sentece(here augmented query's context0 at once\n",
        "instead of taking them one by one"
      ],
      "metadata": {
        "id": "OEx80_dKgU-Z"
      }
    },
    {
      "cell_type": "code",
      "source": [
        "from sentence_transformers import CrossEncoder\n",
        "cross_encoder = CrossEncoder('cross-encoder/ms-marco-MiniLM-L-6-v2')"
      ],
      "metadata": {
        "trusted": true,
        "execution": {
          "iopub.status.busy": "2024-12-18T06:05:37.896128Z",
          "iopub.execute_input": "2024-12-18T06:05:37.896558Z",
          "iopub.status.idle": "2024-12-18T06:05:39.658847Z",
          "shell.execute_reply.started": "2024-12-18T06:05:37.896524Z",
          "shell.execute_reply": "2024-12-18T06:05:39.657769Z"
        },
        "id": "eF8_dkG0gU-Z",
        "outputId": "c4dd2001-9c14-4e76-acc2-98b25e1baad5",
        "colab": {
          "referenced_widgets": [
            "3224ecbf25c949888b574bd920a6467b",
            "d5d8933b544b4d53a926b1c54d2d0879",
            "d50e2819bd374f988a41b866ac897d2a",
            "44a1a19f23b24b7fb160ef3a1924cb53",
            "409758f2739f41f296e7d3a3030ea031"
          ]
        }
      },
      "outputs": [
        {
          "output_type": "display_data",
          "data": {
            "text/plain": "config.json:   0%|          | 0.00/794 [00:00<?, ?B/s]",
            "application/vnd.jupyter.widget-view+json": {
              "version_major": 2,
              "version_minor": 0,
              "model_id": "3224ecbf25c949888b574bd920a6467b"
            }
          },
          "metadata": {}
        },
        {
          "output_type": "display_data",
          "data": {
            "text/plain": "model.safetensors:   0%|          | 0.00/90.9M [00:00<?, ?B/s]",
            "application/vnd.jupyter.widget-view+json": {
              "version_major": 2,
              "version_minor": 0,
              "model_id": "d5d8933b544b4d53a926b1c54d2d0879"
            }
          },
          "metadata": {}
        },
        {
          "output_type": "display_data",
          "data": {
            "text/plain": "tokenizer_config.json:   0%|          | 0.00/316 [00:00<?, ?B/s]",
            "application/vnd.jupyter.widget-view+json": {
              "version_major": 2,
              "version_minor": 0,
              "model_id": "d50e2819bd374f988a41b866ac897d2a"
            }
          },
          "metadata": {}
        },
        {
          "output_type": "display_data",
          "data": {
            "text/plain": "vocab.txt:   0%|          | 0.00/232k [00:00<?, ?B/s]",
            "application/vnd.jupyter.widget-view+json": {
              "version_major": 2,
              "version_minor": 0,
              "model_id": "44a1a19f23b24b7fb160ef3a1924cb53"
            }
          },
          "metadata": {}
        },
        {
          "output_type": "display_data",
          "data": {
            "text/plain": "special_tokens_map.json:   0%|          | 0.00/112 [00:00<?, ?B/s]",
            "application/vnd.jupyter.widget-view+json": {
              "version_major": 2,
              "version_minor": 0,
              "model_id": "409758f2739f41f296e7d3a3030ea031"
            }
          },
          "metadata": {}
        }
      ],
      "execution_count": null
    },
    {
      "cell_type": "code",
      "source": [
        "pairs = []\n",
        "for doc in unique_contents:\n",
        "    pairs.append([query, doc])\n",
        "\n",
        "scores = cross_encoder.predict(pairs)\n",
        "scored_docs = zip(scores, unique_contents)\n",
        "sorted_docs = sorted(scored_docs, reverse=True)\n",
        "reranked_docs = [doc for _, doc in sorted_docs]\n"
      ],
      "metadata": {
        "trusted": true,
        "execution": {
          "iopub.status.busy": "2024-12-18T06:13:40.666744Z",
          "iopub.execute_input": "2024-12-18T06:13:40.667175Z",
          "iopub.status.idle": "2024-12-18T06:13:41.800036Z",
          "shell.execute_reply.started": "2024-12-18T06:13:40.667138Z",
          "shell.execute_reply": "2024-12-18T06:13:41.798657Z"
        },
        "id": "XnbBoclUgU-Z",
        "outputId": "4e183a7b-1af5-43aa-bc8a-f41fa0d589a4",
        "colab": {
          "referenced_widgets": [
            "b440058d735f483796d9a779ebd92a73"
          ]
        }
      },
      "outputs": [
        {
          "output_type": "display_data",
          "data": {
            "text/plain": "Batches:   0%|          | 0/1 [00:00<?, ?it/s]",
            "application/vnd.jupyter.widget-view+json": {
              "version_major": 2,
              "version_minor": 0,
              "model_id": "b440058d735f483796d9a779ebd92a73"
            }
          },
          "metadata": {}
        }
      ],
      "execution_count": null
    },
    {
      "cell_type": "code",
      "source": [
        "ranked_context = []\n",
        "for ctx in reranked_docs:\n",
        "    if ctx.startswith(\"category:\"):\n",
        "        ranked_context.append(ctx)\n",
        "    else:\n",
        "        ctx = \"category: News\"+'\\n'+ctx\n",
        "        ranked_context.append(ctx)\n",
        "\n",
        "for ctx in ranked_context:\n",
        "    print(ctx)\n",
        "    print(\"=\"*100)"
      ],
      "metadata": {
        "trusted": true,
        "execution": {
          "iopub.status.busy": "2024-12-18T06:17:51.289656Z",
          "iopub.execute_input": "2024-12-18T06:17:51.290201Z",
          "iopub.status.idle": "2024-12-18T06:17:51.297163Z",
          "shell.execute_reply.started": "2024-12-18T06:17:51.290163Z",
          "shell.execute_reply": "2024-12-18T06:17:51.295938Z"
        },
        "id": "-WtnnepagU-a",
        "outputId": "94550d18-da80-4c59-8edb-73ed2dfc1613"
      },
      "outputs": [
        {
          "name": "stdout",
          "text": "category: News\nTitle: HDFC Mutual Fund allots Rs 7.3 billion shares to anchor investors\nDescription: HDFC MF is the second IPO from the HDFC group after HDFC Standard Life's maiden offering in November 2017\nYear: 2018\nMonth: 7\n====================================================================================================\ncategory: News\nTitle: HDFC Q1 net up 54% to Rs 21.90 bn, gets nod for $1.5 bn external borrowings\nDescription: Its loan book grew by 18.5 per cent at Rs 3.71 trillion at end of June 2018 as against Rs 3.13 trillion a year ago\nYear: 2018\nMonth: 7\n====================================================================================================\ncategory: News\nTitle: HDFC to raise up to Rs 130 billion through preference shares, QIP\nDescription: This will be the first equity raising by the country's largest pure-play mortgage lender in over a decade\nYear: 2018\nMonth: 1\n====================================================================================================\ncategory: News\nTitle: HDFC Bank MD's remuneration declines to Rs 9.65cr in 2017-18\nDescription: The remuneration drawn by Puri and bank employees, in terms of ratio, stood at 209:1 meaning he took home 209 times more than the ...\nYear: 2018\nMonth: 7\n====================================================================================================\ncategory: News\nTitle: Indian lender HDFC Bank's US share sale to raise about $1.81 billion\nDescription: HDFC Bank is an investor favourite at a time when India's banking sector has been plagued by a record $150 billion in ...\nYear: 2018\nMonth: 7\n====================================================================================================\ncategory: News\nTitle: HDFC Q1 net profit up 54% to Rs 21.9 bn; gets nod for Rs 350-bn bonds issue\nDescription: HDFC has also been allowed to raise up to $1.5 bn by tapping foreign sources through the external commercial borrowing route\nYear: 2018\nMonth: 7\n====================================================================================================\ncategory: News\nTitle: HDFC Life reports 24% growth for FY18, 40% jump in Q4 net at Rs 3.47 bn\nDescription: Its total income was down at Rs 81.34 billion, during the March quarter of 2017-18\nYear: 2018\nMonth: 4\n====================================================================================================\ncategory: Investments\nreport_type: balance-sheet\nstock_symbol: HDFCLIFE\nyear: 2018\nmonth: 3\nvalue_type: 106590.0\n====================================================================================================\ncategory: Equity Capital\nreport_type: balance-sheet\nstock_symbol: HDFCBANK\nyear: 2018\nmonth: 3\nvalue_type: 519.0\n====================================================================================================\ncategory: Reserves\nreport_type: balance-sheet\nstock_symbol: HDFCLIFE\nyear: 2018\nmonth: 3\nvalue_type: 2693.0\n====================================================================================================\ncategory: News\nTitle: HDFC Bank Q4 net profit surges 20% to Rs 48 billion; bad loans tick up\nDescription: Analysts had on average expected a net profit of Rs 48.43 billion\nYear: 2018\nMonth: 4\n====================================================================================================\ncategory: Dividend Payout %\nreport_type: profit-loss\nstock_symbol: HDFCBANK\nyear: 2018\nmonth: 3\nvalue_type: 0.18\n====================================================================================================\ncategory: Cash from Investing Activity_cash-flow\nreport_type: cash-flow\nstock_symbol: HDFCLIFE\nyear: 2017\nmonth: 3\nvalue_type: -5177.0\n====================================================================================================\ncategory: News\nTitle: HDFC Bank Q4 net rises 18% to Rs 3,990 cr\nDescription: HDFC Bank, the country's second largest in the private sector in terms of assets, reported an 18.3 per cent rise in both its ...\nYear: 2017\nMonth: 4\n====================================================================================================\ncategory: Investments\nreport_type: balance-sheet\nstock_symbol: HDFCLIFE\nyear: 2017\nmonth: 3\nvalue_type: 91723.0\n====================================================================================================\ncategory: Equity Capital\nreport_type: balance-sheet\nstock_symbol: HDFCLIFE\nyear: 2017\nmonth: 3\nvalue_type: 1998.0\n====================================================================================================\ncategory: Equity Capital\nreport_type: balance-sheet\nstock_symbol: HDFCBANK\nyear: 2017\nmonth: 3\nvalue_type: 513.0\n====================================================================================================\ncategory: News\nTitle: ICICI Bank pips HDFC Bank as most popular stock for MFs\nDescription: So far in 2017, shares of HDFC Bank gained 48%, while those of ICICI Bank have added 18%\nYear: 2017\nMonth: 8\n====================================================================================================\ncategory: Reserves\nreport_type: balance-sheet\nstock_symbol: HDFCLIFE\nyear: 2017\nmonth: 3\nvalue_type: 1828.0\n====================================================================================================\ncategory: Dividend Payout %\nreport_type: profit-loss\nstock_symbol: HDFCLIFE\nyear: 2017\nmonth: 3\nvalue_type: 0.25\n====================================================================================================\ncategory: News\nTitle: HDFC completes 9% stake sale in HDFC Life to JV partner\nDescription: In August last year, HDFC had said it will sell 9% stake in HDFC Life to Standard Life for a little over Rs 1,700 crore\nYear: 2016\nMonth: 4\n====================================================================================================\ncategory: Dividend Payout %\nreport_type: profit-loss\nstock_symbol: HDFCBANK\nyear: 2017\nmonth: 3\nvalue_type: 0.18\n====================================================================================================\ncategory: Investments\nreport_type: balance-sheet\nstock_symbol: HDFCLIFE\nyear: 2016\nmonth: 3\nvalue_type: 74144.0\n====================================================================================================\ncategory: Equity Capital\nreport_type: balance-sheet\nstock_symbol: HDFCLIFE\nyear: 2016\nmonth: 3\nvalue_type: 1995.0\n====================================================================================================\ncategory: Equity Capital\nreport_type: balance-sheet\nstock_symbol: HDFCBANK\nyear: 2016\nmonth: 3\nvalue_type: 506.0\n====================================================================================================\ncategory: Reserves\nreport_type: balance-sheet\nstock_symbol: HDFCLIFE\nyear: 2016\nmonth: 3\nvalue_type: 1108.0\n====================================================================================================\ncategory: News\nTitle: HDFC to raise up to Rs 500 crore via masala bonds\nDescription: In July this year, in the first-ever masala bond issue, HDFC had raised Rs 3,000 cr through rupee-denominated bonds\nYear: 2016\nMonth: 10\n====================================================================================================\ncategory: Dividend Payout %\nreport_type: profit-loss\nstock_symbol: HDFCLIFE\nyear: 2016\nmonth: 3\nvalue_type: 0.22\n====================================================================================================\ncategory: News\nTitle: HDFC, SBI Life buy 18.5% in IDFC Infra Debt Fund\nDescription: Refinancing firm to raise Rs 1,000 cr via bonds\nYear: 2016\nMonth: 7\n====================================================================================================\ncategory: News\nTitle: 3:7 swap ratio for Max, HDFC Life merger\nDescription: Transaction to be completed in 12 months; combined entity to be worth around Rs 65,000 cr\nYear: 2016\nMonth: 8\n====================================================================================================\ncategory: Dividend Payout %\nreport_type: profit-loss\nstock_symbol: HDFCBANK\nyear: 2016\nmonth: 3\nvalue_type: 0.19\n====================================================================================================\n",
          "output_type": "stream"
        }
      ],
      "execution_count": null
    },
    {
      "cell_type": "markdown",
      "source": [
        "### create new retriver\n",
        "\n",
        "Used BM25Retriver for ranking purpose since our context is already ranked (here using a ranking retriver makes sense)"
      ],
      "metadata": {
        "id": "0_3Lz6FngU-a"
      }
    },
    {
      "cell_type": "code",
      "source": [
        "from langchain.retrievers import EnsembleRetriever\n",
        "from langchain_community.retrievers import BM25Retriever\n",
        "from langchain.schema import Document\n",
        "\n",
        "context_inp_txt = [Document(page_content=ctx) for ctx in context]\n",
        "bm25_retriever = BM25Retriever.from_documents(context_inp_txt)\n",
        "\n",
        "# create ensemble retriever (FAISS + BM25)\n",
        "ensemble_retriever_2 = EnsembleRetriever(retrievers=[faiss_retriver_1,faiss_retriever_2, bm25_retriever],\n",
        "                                       weights=[0.35,0.3, 0.35])\n"
      ],
      "metadata": {
        "trusted": true,
        "execution": {
          "iopub.status.busy": "2024-12-18T06:28:58.326942Z",
          "iopub.execute_input": "2024-12-18T06:28:58.327392Z",
          "iopub.status.idle": "2024-12-18T06:28:58.335763Z",
          "shell.execute_reply.started": "2024-12-18T06:28:58.32735Z",
          "shell.execute_reply": "2024-12-18T06:28:58.334562Z"
        },
        "id": "hw-VDDZPgU-a"
      },
      "outputs": [],
      "execution_count": null
    },
    {
      "cell_type": "code",
      "source": [
        "\n",
        "from operator import itemgetter\n",
        "\n",
        "from langchain_core.prompts import ChatPromptTemplate\n",
        "from langchain_core.output_parsers import StrOutputParser\n",
        "from langchain_core.runnables import RunnableLambda, RunnablePassthrough\n",
        "from langchain_community.llms import Together\n",
        "\n",
        "\n",
        "template = \"\"\"<s>[INST] Answer the question in a simple sentence based on following context(sorted according to priority), use the timeline data to aggregate financial report and news:\n",
        "{context}\n",
        "\n",
        "Question: {question} [/INST]\n",
        "\"\"\"\n",
        "prompt = ChatPromptTemplate.from_template(template)\n",
        "\n",
        "ranked_context_combined = \"\\n\".join(ranked_context)\n",
        "\n",
        "chain = (\n",
        "    {\"context\": RunnableLambda(lambda _: ranked_context_combined ), \"question\": RunnablePassthrough()}\n",
        "    | prompt\n",
        "    | model\n",
        "    | StrOutputParser()\n",
        ")\n"
      ],
      "metadata": {
        "trusted": true,
        "execution": {
          "iopub.status.busy": "2024-12-18T06:29:54.820564Z",
          "iopub.execute_input": "2024-12-18T06:29:54.820999Z",
          "iopub.status.idle": "2024-12-18T06:29:54.82842Z",
          "shell.execute_reply.started": "2024-12-18T06:29:54.820965Z",
          "shell.execute_reply": "2024-12-18T06:29:54.827281Z"
        },
        "id": "Y-VtI-52gU-h"
      },
      "outputs": [],
      "execution_count": null
    },
    {
      "cell_type": "code",
      "source": [
        "query = \"Should I hold my position on HDFC till January, 2019 or should I exit before that ? If yes then how long. if no then when should I exit ?\"\n",
        "output = chain.invoke(query)\n",
        "\n",
        "print(output)"
      ],
      "metadata": {
        "trusted": true,
        "execution": {
          "iopub.status.busy": "2024-12-18T06:31:49.914403Z",
          "iopub.execute_input": "2024-12-18T06:31:49.915554Z",
          "iopub.status.idle": "2024-12-18T06:31:51.513152Z",
          "shell.execute_reply.started": "2024-12-18T06:31:49.915514Z",
          "shell.execute_reply": "2024-12-18T06:31:51.511999Z"
        },
        "id": "knEFQaY2gU-j",
        "outputId": "03aa4fc5-5031-4b2d-fad5-1fe3c418f1fb"
      },
      "outputs": [
        {
          "name": "stdout",
          "text": "As a financial assistant, I can provide you with information based on the data you've given, but if you're looking for specific investment advice, I would recommend consulting with a financial advisor.\n\nFrom the data provided, it appears that HDFC has had a strong financial performance in 2018, with net profits and loan books growing significantly. The company has also been actively raising funds through various means such as IPOs, preference shares, and external borrowings. \n\nIn terms of stock prices, there doesn't seem to be any clear trend that suggests you should sell your position immediately.\n",
          "output_type": "stream"
        }
      ],
      "execution_count": null
    },
    {
      "cell_type": "code",
      "source": [
        "#"
      ],
      "metadata": {
        "trusted": true,
        "execution": {
          "iopub.status.busy": "2024-12-18T06:33:28.238647Z",
          "iopub.execute_input": "2024-12-18T06:33:28.239067Z",
          "iopub.status.idle": "2024-12-18T06:33:28.243777Z",
          "shell.execute_reply.started": "2024-12-18T06:33:28.239032Z",
          "shell.execute_reply": "2024-12-18T06:33:28.242594Z"
        },
        "id": "rCZ23WIXgU-l"
      },
      "outputs": [],
      "execution_count": null
    }
  ]
}